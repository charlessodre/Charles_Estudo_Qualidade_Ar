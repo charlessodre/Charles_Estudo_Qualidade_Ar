{
 "cells": [
  {
   "cell_type": "markdown",
   "metadata": {},
   "source": [
    "# Introdução\n",
    "\n",
    "<h3> ** O principal objetivo deste notebook é praticar o uso do python para análise de dados e uso de alguns modelos de classificação do scikit-learn. ** </h3>\n",
    "\n",
    "\n",
    "- O dataset que vamos utilizar para o nosso estudo será o dataset \"qualidade_do_ar.csv\".\n",
    "    O conjunto de dados contém 9358 resultados médios de 5 sensores químicos de um dispositivo multisensor (PTXX.SX). O dispositivo estava localizado a nível da rua, dentro de uma cidade significativamente poluída. Os dados foram registrados de março de 2004 a fevereiro de 2005 (um ano). Valores ausentes são marcados com o valor -200. A medida de outros sensores também está disponível e algumas podem ser redundantes. A variável chave a ser analisada é PT08.S1 (CO), concentração de CO na atmosfera.\n",
    "\n",
    "\n",
    "\n",
    "<h4> Abaixo estão as descrições dos atributos do Dataset: </h4>\n",
    "    \n",
    "1.\tDate (DD/MM/YYYY) \n",
    "2.\tTime (HH.MM.SS) \n",
    "3.\tPT08.S1 (CO) – Variável de predição\n",
    "4.\tNon Metanic HydroCarbons Concentration (mg/m^3)\n",
    "5.\t4 Benzene Concentration (mg/m^3) \n",
    "6.\tPT08.S2 (NMHC) \n",
    "7.\tNOx Concentration (ppb) \n",
    "8.\tPT08.S3 (NOx) \n",
    "9.\t8 NO2 Concentration (mg/m^3) \n",
    "10.\tPT08.S4 (NO2s) \n",
    "11.\tPT08.S5 (O3) \n",
    "12.\tTemperature (C) \n",
    "13.\tRelative Humidity (%) \n",
    "14.\tAH Absolute Humidity \n",
    "    "
   ]
  },
  {
   "cell_type": "markdown",
   "metadata": {},
   "source": [
    "# Iniciando a Importação e Análise Exploratória de Dados."
   ]
  },
  {
   "cell_type": "code",
   "execution_count": 1,
   "metadata": {},
   "outputs": [],
   "source": [
    "# Carregando as bibliotecas iniciais\n",
    "import pandas as pd \n",
    "import numpy as np\n",
    "import matplotlib.pyplot as plt\n",
    "import seaborn as sns \n",
    "from datetime import datetime"
   ]
  },
  {
   "cell_type": "code",
   "execution_count": 2,
   "metadata": {},
   "outputs": [
    {
     "data": {
      "text/plain": [
       "(9357, 14)"
      ]
     },
     "execution_count": 2,
     "metadata": {},
     "output_type": "execute_result"
    }
   ],
   "source": [
    "# Importando o DataSet e definindo o separador decimal para ',' e substiuíndo os valores \"-200\" por valores \"N/A\".\n",
    "df_ar = pd.read_csv('qualidade_do_ar.csv', sep=';',decimal=',' ,  keep_default_na=False, na_values = -200 )\n",
    "\n",
    "# Visualizando as dimensões do dataset original\n",
    "df_ar.shape"
   ]
  },
  {
   "cell_type": "code",
   "execution_count": 3,
   "metadata": {},
   "outputs": [
    {
     "data": {
      "text/html": [
       "<div>\n",
       "<style scoped>\n",
       "    .dataframe tbody tr th:only-of-type {\n",
       "        vertical-align: middle;\n",
       "    }\n",
       "\n",
       "    .dataframe tbody tr th {\n",
       "        vertical-align: top;\n",
       "    }\n",
       "\n",
       "    .dataframe thead th {\n",
       "        text-align: right;\n",
       "    }\n",
       "</style>\n",
       "<table border=\"1\" class=\"dataframe\">\n",
       "  <thead>\n",
       "    <tr style=\"text-align: right;\">\n",
       "      <th></th>\n",
       "      <th>Date</th>\n",
       "      <th>Time</th>\n",
       "      <th>PT08.S1(CO)</th>\n",
       "      <th>NMHC(GT)</th>\n",
       "      <th>C6H6(GT)</th>\n",
       "      <th>PT08.S2(NMHC)</th>\n",
       "      <th>NOx(GT)</th>\n",
       "      <th>PT08.S3(NOx)</th>\n",
       "      <th>NO2(GT)</th>\n",
       "      <th>PT08.S4(NO2)</th>\n",
       "      <th>PT08.S5(O3)</th>\n",
       "      <th>T</th>\n",
       "      <th>RH</th>\n",
       "      <th>AH</th>\n",
       "    </tr>\n",
       "  </thead>\n",
       "  <tbody>\n",
       "    <tr>\n",
       "      <th>0</th>\n",
       "      <td>10/03/2004</td>\n",
       "      <td>18.00.00</td>\n",
       "      <td>1360.0</td>\n",
       "      <td>150.0</td>\n",
       "      <td>11.9</td>\n",
       "      <td>1046.0</td>\n",
       "      <td>166.0</td>\n",
       "      <td>1056.0</td>\n",
       "      <td>113.0</td>\n",
       "      <td>1692.0</td>\n",
       "      <td>1268.0</td>\n",
       "      <td>13.6</td>\n",
       "      <td>48.9</td>\n",
       "      <td>0.7578</td>\n",
       "    </tr>\n",
       "    <tr>\n",
       "      <th>1</th>\n",
       "      <td>10/03/2004</td>\n",
       "      <td>19.00.00</td>\n",
       "      <td>1292.0</td>\n",
       "      <td>112.0</td>\n",
       "      <td>9.4</td>\n",
       "      <td>955.0</td>\n",
       "      <td>103.0</td>\n",
       "      <td>1174.0</td>\n",
       "      <td>92.0</td>\n",
       "      <td>1559.0</td>\n",
       "      <td>972.0</td>\n",
       "      <td>13.3</td>\n",
       "      <td>47.7</td>\n",
       "      <td>0.7255</td>\n",
       "    </tr>\n",
       "    <tr>\n",
       "      <th>2</th>\n",
       "      <td>10/03/2004</td>\n",
       "      <td>20.00.00</td>\n",
       "      <td>1402.0</td>\n",
       "      <td>88.0</td>\n",
       "      <td>9.0</td>\n",
       "      <td>939.0</td>\n",
       "      <td>131.0</td>\n",
       "      <td>1140.0</td>\n",
       "      <td>114.0</td>\n",
       "      <td>1555.0</td>\n",
       "      <td>1074.0</td>\n",
       "      <td>11.9</td>\n",
       "      <td>54.0</td>\n",
       "      <td>0.7502</td>\n",
       "    </tr>\n",
       "    <tr>\n",
       "      <th>3</th>\n",
       "      <td>10/03/2004</td>\n",
       "      <td>21.00.00</td>\n",
       "      <td>1376.0</td>\n",
       "      <td>80.0</td>\n",
       "      <td>9.2</td>\n",
       "      <td>948.0</td>\n",
       "      <td>172.0</td>\n",
       "      <td>1092.0</td>\n",
       "      <td>122.0</td>\n",
       "      <td>1584.0</td>\n",
       "      <td>1203.0</td>\n",
       "      <td>11.0</td>\n",
       "      <td>60.0</td>\n",
       "      <td>0.7867</td>\n",
       "    </tr>\n",
       "    <tr>\n",
       "      <th>4</th>\n",
       "      <td>10/03/2004</td>\n",
       "      <td>22.00.00</td>\n",
       "      <td>1272.0</td>\n",
       "      <td>51.0</td>\n",
       "      <td>6.5</td>\n",
       "      <td>836.0</td>\n",
       "      <td>131.0</td>\n",
       "      <td>1205.0</td>\n",
       "      <td>116.0</td>\n",
       "      <td>1490.0</td>\n",
       "      <td>1110.0</td>\n",
       "      <td>11.2</td>\n",
       "      <td>59.6</td>\n",
       "      <td>0.7888</td>\n",
       "    </tr>\n",
       "    <tr>\n",
       "      <th>5</th>\n",
       "      <td>10/03/2004</td>\n",
       "      <td>23.00.00</td>\n",
       "      <td>1197.0</td>\n",
       "      <td>38.0</td>\n",
       "      <td>4.7</td>\n",
       "      <td>750.0</td>\n",
       "      <td>89.0</td>\n",
       "      <td>1337.0</td>\n",
       "      <td>96.0</td>\n",
       "      <td>1393.0</td>\n",
       "      <td>949.0</td>\n",
       "      <td>11.2</td>\n",
       "      <td>59.2</td>\n",
       "      <td>0.7848</td>\n",
       "    </tr>\n",
       "    <tr>\n",
       "      <th>6</th>\n",
       "      <td>11/03/2004</td>\n",
       "      <td>00.00.00</td>\n",
       "      <td>1185.0</td>\n",
       "      <td>31.0</td>\n",
       "      <td>3.6</td>\n",
       "      <td>690.0</td>\n",
       "      <td>62.0</td>\n",
       "      <td>1462.0</td>\n",
       "      <td>77.0</td>\n",
       "      <td>1333.0</td>\n",
       "      <td>733.0</td>\n",
       "      <td>11.3</td>\n",
       "      <td>56.8</td>\n",
       "      <td>0.7603</td>\n",
       "    </tr>\n",
       "    <tr>\n",
       "      <th>7</th>\n",
       "      <td>11/03/2004</td>\n",
       "      <td>01.00.00</td>\n",
       "      <td>1136.0</td>\n",
       "      <td>31.0</td>\n",
       "      <td>3.3</td>\n",
       "      <td>672.0</td>\n",
       "      <td>62.0</td>\n",
       "      <td>1453.0</td>\n",
       "      <td>76.0</td>\n",
       "      <td>1333.0</td>\n",
       "      <td>730.0</td>\n",
       "      <td>10.7</td>\n",
       "      <td>60.0</td>\n",
       "      <td>0.7702</td>\n",
       "    </tr>\n",
       "    <tr>\n",
       "      <th>8</th>\n",
       "      <td>11/03/2004</td>\n",
       "      <td>02.00.00</td>\n",
       "      <td>1094.0</td>\n",
       "      <td>24.0</td>\n",
       "      <td>2.3</td>\n",
       "      <td>609.0</td>\n",
       "      <td>45.0</td>\n",
       "      <td>1579.0</td>\n",
       "      <td>60.0</td>\n",
       "      <td>1276.0</td>\n",
       "      <td>620.0</td>\n",
       "      <td>10.7</td>\n",
       "      <td>59.7</td>\n",
       "      <td>0.7648</td>\n",
       "    </tr>\n",
       "    <tr>\n",
       "      <th>9</th>\n",
       "      <td>11/03/2004</td>\n",
       "      <td>03.00.00</td>\n",
       "      <td>1010.0</td>\n",
       "      <td>19.0</td>\n",
       "      <td>1.7</td>\n",
       "      <td>561.0</td>\n",
       "      <td>NaN</td>\n",
       "      <td>1705.0</td>\n",
       "      <td>NaN</td>\n",
       "      <td>1235.0</td>\n",
       "      <td>501.0</td>\n",
       "      <td>10.3</td>\n",
       "      <td>60.2</td>\n",
       "      <td>0.7517</td>\n",
       "    </tr>\n",
       "  </tbody>\n",
       "</table>\n",
       "</div>"
      ],
      "text/plain": [
       "         Date      Time  PT08.S1(CO)  NMHC(GT)  C6H6(GT)  PT08.S2(NMHC)  \\\n",
       "0  10/03/2004  18.00.00       1360.0     150.0      11.9         1046.0   \n",
       "1  10/03/2004  19.00.00       1292.0     112.0       9.4          955.0   \n",
       "2  10/03/2004  20.00.00       1402.0      88.0       9.0          939.0   \n",
       "3  10/03/2004  21.00.00       1376.0      80.0       9.2          948.0   \n",
       "4  10/03/2004  22.00.00       1272.0      51.0       6.5          836.0   \n",
       "5  10/03/2004  23.00.00       1197.0      38.0       4.7          750.0   \n",
       "6  11/03/2004  00.00.00       1185.0      31.0       3.6          690.0   \n",
       "7  11/03/2004  01.00.00       1136.0      31.0       3.3          672.0   \n",
       "8  11/03/2004  02.00.00       1094.0      24.0       2.3          609.0   \n",
       "9  11/03/2004  03.00.00       1010.0      19.0       1.7          561.0   \n",
       "\n",
       "   NOx(GT)  PT08.S3(NOx)  NO2(GT)  PT08.S4(NO2)  PT08.S5(O3)     T    RH  \\\n",
       "0    166.0        1056.0    113.0        1692.0       1268.0  13.6  48.9   \n",
       "1    103.0        1174.0     92.0        1559.0        972.0  13.3  47.7   \n",
       "2    131.0        1140.0    114.0        1555.0       1074.0  11.9  54.0   \n",
       "3    172.0        1092.0    122.0        1584.0       1203.0  11.0  60.0   \n",
       "4    131.0        1205.0    116.0        1490.0       1110.0  11.2  59.6   \n",
       "5     89.0        1337.0     96.0        1393.0        949.0  11.2  59.2   \n",
       "6     62.0        1462.0     77.0        1333.0        733.0  11.3  56.8   \n",
       "7     62.0        1453.0     76.0        1333.0        730.0  10.7  60.0   \n",
       "8     45.0        1579.0     60.0        1276.0        620.0  10.7  59.7   \n",
       "9      NaN        1705.0      NaN        1235.0        501.0  10.3  60.2   \n",
       "\n",
       "       AH  \n",
       "0  0.7578  \n",
       "1  0.7255  \n",
       "2  0.7502  \n",
       "3  0.7867  \n",
       "4  0.7888  \n",
       "5  0.7848  \n",
       "6  0.7603  \n",
       "7  0.7702  \n",
       "8  0.7648  \n",
       "9  0.7517  "
      ]
     },
     "execution_count": 3,
     "metadata": {},
     "output_type": "execute_result"
    }
   ],
   "source": [
    "# Olhando as 10 primeiras linhas do dataset\n",
    "df_ar.head(10)"
   ]
  },
  {
   "cell_type": "code",
   "execution_count": 4,
   "metadata": {},
   "outputs": [
    {
     "name": "stdout",
     "output_type": "stream",
     "text": [
      "<class 'pandas.core.frame.DataFrame'>\n",
      "RangeIndex: 9357 entries, 0 to 9356\n",
      "Data columns (total 14 columns):\n",
      "Date             9357 non-null object\n",
      "Time             9357 non-null object\n",
      "PT08.S1(CO)      8991 non-null float64\n",
      "NMHC(GT)         914 non-null float64\n",
      "C6H6(GT)         8991 non-null float64\n",
      "PT08.S2(NMHC)    8991 non-null float64\n",
      "NOx(GT)          7718 non-null float64\n",
      "PT08.S3(NOx)     8991 non-null float64\n",
      "NO2(GT)          7715 non-null float64\n",
      "PT08.S4(NO2)     8991 non-null float64\n",
      "PT08.S5(O3)      8991 non-null float64\n",
      "T                8991 non-null float64\n",
      "RH               8991 non-null float64\n",
      "AH               8991 non-null float64\n",
      "dtypes: float64(12), object(2)\n",
      "memory usage: 1023.5+ KB\n"
     ]
    }
   ],
   "source": [
    "# Olhando os tipos e formato dos dados antes das conversões\n",
    "df_ar.info()"
   ]
  },
  {
   "cell_type": "code",
   "execution_count": 5,
   "metadata": {},
   "outputs": [],
   "source": [
    "# Convertendo os tipos de dados de algumas colunas.\n",
    "df_ar['Date'] = df_ar['Date'].astype('datetime64')"
   ]
  },
  {
   "cell_type": "code",
   "execution_count": 6,
   "metadata": {},
   "outputs": [
    {
     "name": "stdout",
     "output_type": "stream",
     "text": [
      "<class 'pandas.core.frame.DataFrame'>\n",
      "RangeIndex: 9357 entries, 0 to 9356\n",
      "Data columns (total 14 columns):\n",
      "Date             9357 non-null datetime64[ns]\n",
      "Time             9357 non-null object\n",
      "PT08.S1(CO)      8991 non-null float64\n",
      "NMHC(GT)         914 non-null float64\n",
      "C6H6(GT)         8991 non-null float64\n",
      "PT08.S2(NMHC)    8991 non-null float64\n",
      "NOx(GT)          7718 non-null float64\n",
      "PT08.S3(NOx)     8991 non-null float64\n",
      "NO2(GT)          7715 non-null float64\n",
      "PT08.S4(NO2)     8991 non-null float64\n",
      "PT08.S5(O3)      8991 non-null float64\n",
      "T                8991 non-null float64\n",
      "RH               8991 non-null float64\n",
      "AH               8991 non-null float64\n",
      "dtypes: datetime64[ns](1), float64(12), object(1)\n",
      "memory usage: 1023.5+ KB\n"
     ]
    }
   ],
   "source": [
    "# Olhando os tipos e formato dos dados após das conversões\n",
    "df_ar.info()"
   ]
  },
  {
   "cell_type": "code",
   "execution_count": 7,
   "metadata": {},
   "outputs": [
    {
     "data": {
      "text/plain": [
       "Date              391\n",
       "Time               24\n",
       "PT08.S1(CO)      1041\n",
       "NMHC(GT)          429\n",
       "C6H6(GT)          407\n",
       "PT08.S2(NMHC)    1245\n",
       "NOx(GT)           925\n",
       "PT08.S3(NOx)     1221\n",
       "NO2(GT)           283\n",
       "PT08.S4(NO2)     1603\n",
       "PT08.S5(O3)      1743\n",
       "T                 436\n",
       "RH                753\n",
       "AH               6683\n",
       "dtype: int64"
      ]
     },
     "execution_count": 7,
     "metadata": {},
     "output_type": "execute_result"
    }
   ],
   "source": [
    "# Verificando os valores únicos\n",
    "df_ar.nunique()"
   ]
  },
  {
   "cell_type": "code",
   "execution_count": 8,
   "metadata": {},
   "outputs": [
    {
     "data": {
      "image/png": "[encoded data removed]",
      "text/plain": [
       "<Figure size 720x576 with 12 Axes>"
      ]
     },
     "metadata": {
      "needs_background": "light"
     },
     "output_type": "display_data"
    }
   ],
   "source": [
    "# Distribuição dos atributos dos dataset\n",
    "df_ar.hist(figsize=(10,8))\n",
    "plt.tight_layout()\n",
    "plt.show()"
   ]
  },
  {
   "cell_type": "markdown",
   "metadata": {},
   "source": [
    "## Verificando e Tratando os valores nulos e/ou N/A"
   ]
  },
  {
   "cell_type": "code",
   "execution_count": 9,
   "metadata": {},
   "outputs": [
    {
     "name": "stdout",
     "output_type": "stream",
     "text": [
      "Valores Nulos\n",
      "\n",
      "Date                0\n",
      "Time                0\n",
      "PT08.S1(CO)       366\n",
      "NMHC(GT)         8443\n",
      "C6H6(GT)          366\n",
      "PT08.S2(NMHC)     366\n",
      "NOx(GT)          1639\n",
      "PT08.S3(NOx)      366\n",
      "NO2(GT)          1642\n",
      "PT08.S4(NO2)      366\n",
      "PT08.S5(O3)       366\n",
      "T                 366\n",
      "RH                366\n",
      "AH                366\n",
      "dtype: int64\n",
      "\n",
      "Valores N/A \n",
      "\n",
      "Date                0\n",
      "Time                0\n",
      "PT08.S1(CO)       366\n",
      "NMHC(GT)         8443\n",
      "C6H6(GT)          366\n",
      "PT08.S2(NMHC)     366\n",
      "NOx(GT)          1639\n",
      "PT08.S3(NOx)      366\n",
      "NO2(GT)          1642\n",
      "PT08.S4(NO2)      366\n",
      "PT08.S5(O3)       366\n",
      "T                 366\n",
      "RH                366\n",
      "AH                366\n",
      "dtype: int64\n"
     ]
    }
   ],
   "source": [
    "# Verificando valores nulos.\n",
    "print('Valores Nulos\\n')\n",
    "print(df_ar.isnull().sum())\n",
    "\n",
    "# Verificando valores N/A.\n",
    "print('\\nValores N/A \\n')\n",
    "print(df_ar.isna().sum())"
   ]
  },
  {
   "cell_type": "code",
   "execution_count": 10,
   "metadata": {},
   "outputs": [
    {
     "data": {
      "text/html": [
       "<div>\n",
       "<style scoped>\n",
       "    .dataframe tbody tr th:only-of-type {\n",
       "        vertical-align: middle;\n",
       "    }\n",
       "\n",
       "    .dataframe tbody tr th {\n",
       "        vertical-align: top;\n",
       "    }\n",
       "\n",
       "    .dataframe thead th {\n",
       "        text-align: right;\n",
       "    }\n",
       "</style>\n",
       "<table border=\"1\" class=\"dataframe\">\n",
       "  <thead>\n",
       "    <tr style=\"text-align: right;\">\n",
       "      <th></th>\n",
       "      <th>Total</th>\n",
       "      <th>Percentual</th>\n",
       "    </tr>\n",
       "  </thead>\n",
       "  <tbody>\n",
       "    <tr>\n",
       "      <th>NMHC(GT)</th>\n",
       "      <td>8443</td>\n",
       "      <td>0.902319</td>\n",
       "    </tr>\n",
       "    <tr>\n",
       "      <th>NO2(GT)</th>\n",
       "      <td>1642</td>\n",
       "      <td>0.175484</td>\n",
       "    </tr>\n",
       "    <tr>\n",
       "      <th>NOx(GT)</th>\n",
       "      <td>1639</td>\n",
       "      <td>0.175163</td>\n",
       "    </tr>\n",
       "    <tr>\n",
       "      <th>AH</th>\n",
       "      <td>366</td>\n",
       "      <td>0.039115</td>\n",
       "    </tr>\n",
       "    <tr>\n",
       "      <th>RH</th>\n",
       "      <td>366</td>\n",
       "      <td>0.039115</td>\n",
       "    </tr>\n",
       "    <tr>\n",
       "      <th>T</th>\n",
       "      <td>366</td>\n",
       "      <td>0.039115</td>\n",
       "    </tr>\n",
       "    <tr>\n",
       "      <th>PT08.S5(O3)</th>\n",
       "      <td>366</td>\n",
       "      <td>0.039115</td>\n",
       "    </tr>\n",
       "    <tr>\n",
       "      <th>PT08.S4(NO2)</th>\n",
       "      <td>366</td>\n",
       "      <td>0.039115</td>\n",
       "    </tr>\n",
       "    <tr>\n",
       "      <th>PT08.S3(NOx)</th>\n",
       "      <td>366</td>\n",
       "      <td>0.039115</td>\n",
       "    </tr>\n",
       "    <tr>\n",
       "      <th>PT08.S2(NMHC)</th>\n",
       "      <td>366</td>\n",
       "      <td>0.039115</td>\n",
       "    </tr>\n",
       "    <tr>\n",
       "      <th>C6H6(GT)</th>\n",
       "      <td>366</td>\n",
       "      <td>0.039115</td>\n",
       "    </tr>\n",
       "    <tr>\n",
       "      <th>PT08.S1(CO)</th>\n",
       "      <td>366</td>\n",
       "      <td>0.039115</td>\n",
       "    </tr>\n",
       "    <tr>\n",
       "      <th>Time</th>\n",
       "      <td>0</td>\n",
       "      <td>0.000000</td>\n",
       "    </tr>\n",
       "    <tr>\n",
       "      <th>Date</th>\n",
       "      <td>0</td>\n",
       "      <td>0.000000</td>\n",
       "    </tr>\n",
       "  </tbody>\n",
       "</table>\n",
       "</div>"
      ],
      "text/plain": [
       "               Total  Percentual\n",
       "NMHC(GT)        8443    0.902319\n",
       "NO2(GT)         1642    0.175484\n",
       "NOx(GT)         1639    0.175163\n",
       "AH               366    0.039115\n",
       "RH               366    0.039115\n",
       "T                366    0.039115\n",
       "PT08.S5(O3)      366    0.039115\n",
       "PT08.S4(NO2)     366    0.039115\n",
       "PT08.S3(NOx)     366    0.039115\n",
       "PT08.S2(NMHC)    366    0.039115\n",
       "C6H6(GT)         366    0.039115\n",
       "PT08.S1(CO)      366    0.039115\n",
       "Time               0    0.000000\n",
       "Date               0    0.000000"
      ]
     },
     "execution_count": 10,
     "metadata": {},
     "output_type": "execute_result"
    }
   ],
   "source": [
    "# Exibindo o percentual de valores N/A por atributo\n",
    "total = df_ar.isnull().sum().sort_values(ascending=False)\n",
    "percentual = (df_ar.isna().sum()/df_ar.isna().count()).sort_values(ascending=False)\n",
    "df_valores_na = pd.concat([total, percentual], axis=1, keys=['Total', 'Percentual'])\n",
    "df_valores_na.head(20)"
   ]
  },
  {
   "cell_type": "markdown",
   "metadata": {},
   "source": [
    "### Vamos testar algumas estratégias para tratar os valores N/A.\n",
    "- Nesses testes vamos utilizar algumas estratégias mais simples para o tratamento dos valores N/A, porém é importante saber que existem algumas técnicas mais avançadas, tais como: analisar correlações, criaçãode  um modelo preditivo para preenchimento dos valores N/A entre outras.\n"
   ]
  },
  {
   "cell_type": "code",
   "execution_count": 11,
   "metadata": {},
   "outputs": [
    {
     "data": {
      "text/plain": [
       "(8991, 14)"
      ]
     },
     "execution_count": 11,
     "metadata": {},
     "output_type": "execute_result"
    }
   ],
   "source": [
    "# Como o atributo \"PT08.S1(CO)\" será a variável que vamos tanter prever, para esse caso não vamos preencher os valores N/A. \n",
    "# Vamos remover as linhas em que ele aparece como N/A.\n",
    "df_ar.dropna(subset=['PT08.S1(CO)'], inplace=True);\n",
    "df_ar.shape"
   ]
  },
  {
   "cell_type": "code",
   "execution_count": 12,
   "metadata": {},
   "outputs": [
    {
     "data": {
      "text/plain": [
       "(851, 14)"
      ]
     },
     "execution_count": 12,
     "metadata": {},
     "output_type": "execute_result"
    }
   ],
   "source": [
    "# A primeira será remover do dataset as linhas com valores N/A.\n",
    "# Como podemos observar no resultado, essa não parece uma ser boa estratégia, pois reduzimos muito o número de observações (851 linhas) e isso pode ser um problema para o criação do modelo.\n",
    "df_del_valores_na = pd.DataFrame(df_ar.dropna(), copy=True)\n",
    "df_del_valores_na.shape"
   ]
  },
  {
   "cell_type": "code",
   "execution_count": 13,
   "metadata": {},
   "outputs": [
    {
     "data": {
      "text/plain": [
       "Date             0\n",
       "Time             0\n",
       "PT08.S1(CO)      0\n",
       "NMHC(GT)         0\n",
       "C6H6(GT)         0\n",
       "PT08.S2(NMHC)    0\n",
       "NOx(GT)          0\n",
       "PT08.S3(NOx)     0\n",
       "NO2(GT)          0\n",
       "PT08.S4(NO2)     0\n",
       "PT08.S5(O3)      0\n",
       "T                0\n",
       "RH               0\n",
       "AH               0\n",
       "dtype: int64"
      ]
     },
     "execution_count": 13,
     "metadata": {},
     "output_type": "execute_result"
    }
   ],
   "source": [
    "# A segunda será substituir os valores N/A pelo valor da média de cada atributo.\n",
    "# Essa seria uma estratégia um pouco mais interessante, porém a média é uma medida que pode variar muito na presença de outliers, por isso não vamos adotá-la.\n",
    "df_media_valores_na = pd.DataFrame(df_ar.fillna(df_ar.mean()), copy=True)\n",
    "df_media_valores_na.isna().sum()"
   ]
  },
  {
   "cell_type": "code",
   "execution_count": 14,
   "metadata": {},
   "outputs": [
    {
     "data": {
      "text/plain": [
       "Date             0\n",
       "Time             0\n",
       "PT08.S1(CO)      0\n",
       "NMHC(GT)         0\n",
       "C6H6(GT)         0\n",
       "PT08.S2(NMHC)    0\n",
       "NOx(GT)          0\n",
       "PT08.S3(NOx)     0\n",
       "NO2(GT)          0\n",
       "PT08.S4(NO2)     0\n",
       "PT08.S5(O3)      0\n",
       "T                0\n",
       "RH               0\n",
       "AH               0\n",
       "dtype: int64"
      ]
     },
     "execution_count": 14,
     "metadata": {},
     "output_type": "execute_result"
    }
   ],
   "source": [
    "# A terceira será substituir os valores N/A pelo valor da mediana de cada atributo.\n",
    "# Essa também parace uma estratégia interessante. A mediana leva vantagem em relação à média, pois a mediana pode dar uma ideia melhor de um valor típico porque não é tão distorcida por outliers.\n",
    "# Mas também podemos ter algums problemas caso a curva de distribuiçao seja muito assimétrica, por isso não vamos adotá-la.\n",
    "df_mediana_valores_na = pd.DataFrame(df_ar.fillna(df_ar.median()), copy=True)\n",
    "df_mediana_valores_na.isna().sum()"
   ]
  },
  {
   "cell_type": "code",
   "execution_count": 15,
   "metadata": {
    "scrolled": true
   },
   "outputs": [
    {
     "data": {
      "text/plain": [
       "Date             0\n",
       "Time             0\n",
       "PT08.S1(CO)      0\n",
       "NMHC(GT)         0\n",
       "C6H6(GT)         0\n",
       "PT08.S2(NMHC)    0\n",
       "NOx(GT)          0\n",
       "PT08.S3(NOx)     0\n",
       "NO2(GT)          0\n",
       "PT08.S4(NO2)     0\n",
       "PT08.S5(O3)      0\n",
       "T                0\n",
       "RH               0\n",
       "AH               0\n",
       "dtype: int64"
      ]
     },
     "execution_count": 15,
     "metadata": {},
     "output_type": "execute_result"
    }
   ],
   "source": [
    "# A quarta será substituir os valores N/A pelo valor da moda (valor de maior frequência) de cada atributo.\n",
    "# Apesar de não se prestar à análise matemática, a moda retorna o valor mais comum no conjunto de dados, o que para o nosso caso parece ser bem interessante.\n",
    "# Por isso, esse caso vamos utilizar essa estratégia para o preenchimento dos valores N/A.\n",
    "\n",
    "df_moda_valores_na = pd.DataFrame(df_ar.fillna(df_ar.mode().iloc[0]), copy=True)\n",
    "df_moda_valores_na.isna().sum()"
   ]
  },
  {
   "cell_type": "code",
   "execution_count": 16,
   "metadata": {},
   "outputs": [],
   "source": [
    "# Cria um dataset de valores na tratado.\n",
    "df_na_tratado =  pd.DataFrame(df_moda_valores_na, copy=True)\n"
   ]
  },
  {
   "cell_type": "markdown",
   "metadata": {},
   "source": [
    "## Verificando e Tratando Outliers"
   ]
  },
  {
   "cell_type": "code",
   "execution_count": 17,
   "metadata": {},
   "outputs": [
    {
     "data": {
      "text/html": [
       "<div>\n",
       "<style scoped>\n",
       "    .dataframe tbody tr th:only-of-type {\n",
       "        vertical-align: middle;\n",
       "    }\n",
       "\n",
       "    .dataframe tbody tr th {\n",
       "        vertical-align: top;\n",
       "    }\n",
       "\n",
       "    .dataframe thead th {\n",
       "        text-align: right;\n",
       "    }\n",
       "</style>\n",
       "<table border=\"1\" class=\"dataframe\">\n",
       "  <thead>\n",
       "    <tr style=\"text-align: right;\">\n",
       "      <th></th>\n",
       "      <th>count</th>\n",
       "      <th>mean</th>\n",
       "      <th>std</th>\n",
       "      <th>min</th>\n",
       "      <th>25%</th>\n",
       "      <th>50%</th>\n",
       "      <th>75%</th>\n",
       "      <th>max</th>\n",
       "    </tr>\n",
       "  </thead>\n",
       "  <tbody>\n",
       "    <tr>\n",
       "      <th>PT08.S1(CO)</th>\n",
       "      <td>8991.0</td>\n",
       "      <td>1099.833166</td>\n",
       "      <td>217.080037</td>\n",
       "      <td>647.0000</td>\n",
       "      <td>937.0000</td>\n",
       "      <td>1063.0000</td>\n",
       "      <td>1231.0000</td>\n",
       "      <td>2040.000</td>\n",
       "    </tr>\n",
       "    <tr>\n",
       "      <th>NMHC(GT)</th>\n",
       "      <td>8991.0</td>\n",
       "      <td>81.055389</td>\n",
       "      <td>79.236247</td>\n",
       "      <td>7.0000</td>\n",
       "      <td>66.0000</td>\n",
       "      <td>66.0000</td>\n",
       "      <td>66.0000</td>\n",
       "      <td>1189.000</td>\n",
       "    </tr>\n",
       "    <tr>\n",
       "      <th>C6H6(GT)</th>\n",
       "      <td>8991.0</td>\n",
       "      <td>10.083105</td>\n",
       "      <td>7.449820</td>\n",
       "      <td>0.1000</td>\n",
       "      <td>4.4000</td>\n",
       "      <td>8.2000</td>\n",
       "      <td>14.0000</td>\n",
       "      <td>63.700</td>\n",
       "    </tr>\n",
       "    <tr>\n",
       "      <th>PT08.S2(NMHC)</th>\n",
       "      <td>8991.0</td>\n",
       "      <td>939.153376</td>\n",
       "      <td>266.831429</td>\n",
       "      <td>383.0000</td>\n",
       "      <td>734.5000</td>\n",
       "      <td>909.0000</td>\n",
       "      <td>1116.0000</td>\n",
       "      <td>2214.000</td>\n",
       "    </tr>\n",
       "    <tr>\n",
       "      <th>NOx(GT)</th>\n",
       "      <td>8991.0</td>\n",
       "      <td>215.013569</td>\n",
       "      <td>196.055459</td>\n",
       "      <td>2.0000</td>\n",
       "      <td>89.0000</td>\n",
       "      <td>140.0000</td>\n",
       "      <td>280.0000</td>\n",
       "      <td>1479.000</td>\n",
       "    </tr>\n",
       "    <tr>\n",
       "      <th>PT08.S3(NOx)</th>\n",
       "      <td>8991.0</td>\n",
       "      <td>835.493605</td>\n",
       "      <td>256.817320</td>\n",
       "      <td>322.0000</td>\n",
       "      <td>658.0000</td>\n",
       "      <td>806.0000</td>\n",
       "      <td>969.5000</td>\n",
       "      <td>2683.000</td>\n",
       "    </tr>\n",
       "    <tr>\n",
       "      <th>NO2(GT)</th>\n",
       "      <td>8991.0</td>\n",
       "      <td>109.453342</td>\n",
       "      <td>43.575470</td>\n",
       "      <td>2.0000</td>\n",
       "      <td>85.0000</td>\n",
       "      <td>97.0000</td>\n",
       "      <td>132.0000</td>\n",
       "      <td>333.000</td>\n",
       "    </tr>\n",
       "    <tr>\n",
       "      <th>PT08.S4(NO2)</th>\n",
       "      <td>8991.0</td>\n",
       "      <td>1456.264598</td>\n",
       "      <td>346.206794</td>\n",
       "      <td>551.0000</td>\n",
       "      <td>1227.0000</td>\n",
       "      <td>1463.0000</td>\n",
       "      <td>1674.0000</td>\n",
       "      <td>2775.000</td>\n",
       "    </tr>\n",
       "    <tr>\n",
       "      <th>PT08.S5(O3)</th>\n",
       "      <td>8991.0</td>\n",
       "      <td>1022.906128</td>\n",
       "      <td>398.484288</td>\n",
       "      <td>221.0000</td>\n",
       "      <td>731.5000</td>\n",
       "      <td>963.0000</td>\n",
       "      <td>1273.5000</td>\n",
       "      <td>2523.000</td>\n",
       "    </tr>\n",
       "    <tr>\n",
       "      <th>T</th>\n",
       "      <td>8991.0</td>\n",
       "      <td>18.317829</td>\n",
       "      <td>8.832116</td>\n",
       "      <td>-1.9000</td>\n",
       "      <td>11.8000</td>\n",
       "      <td>17.8000</td>\n",
       "      <td>24.4000</td>\n",
       "      <td>44.600</td>\n",
       "    </tr>\n",
       "    <tr>\n",
       "      <th>RH</th>\n",
       "      <td>8991.0</td>\n",
       "      <td>49.234201</td>\n",
       "      <td>17.316892</td>\n",
       "      <td>9.2000</td>\n",
       "      <td>35.8000</td>\n",
       "      <td>49.6000</td>\n",
       "      <td>62.5000</td>\n",
       "      <td>88.700</td>\n",
       "    </tr>\n",
       "    <tr>\n",
       "      <th>AH</th>\n",
       "      <td>8991.0</td>\n",
       "      <td>1.025530</td>\n",
       "      <td>0.403813</td>\n",
       "      <td>0.1847</td>\n",
       "      <td>0.7368</td>\n",
       "      <td>0.9954</td>\n",
       "      <td>1.3137</td>\n",
       "      <td>2.231</td>\n",
       "    </tr>\n",
       "  </tbody>\n",
       "</table>\n",
       "</div>"
      ],
      "text/plain": [
       "                count         mean         std       min        25%  \\\n",
       "PT08.S1(CO)    8991.0  1099.833166  217.080037  647.0000   937.0000   \n",
       "NMHC(GT)       8991.0    81.055389   79.236247    7.0000    66.0000   \n",
       "C6H6(GT)       8991.0    10.083105    7.449820    0.1000     4.4000   \n",
       "PT08.S2(NMHC)  8991.0   939.153376  266.831429  383.0000   734.5000   \n",
       "NOx(GT)        8991.0   215.013569  196.055459    2.0000    89.0000   \n",
       "PT08.S3(NOx)   8991.0   835.493605  256.817320  322.0000   658.0000   \n",
       "NO2(GT)        8991.0   109.453342   43.575470    2.0000    85.0000   \n",
       "PT08.S4(NO2)   8991.0  1456.264598  346.206794  551.0000  1227.0000   \n",
       "PT08.S5(O3)    8991.0  1022.906128  398.484288  221.0000   731.5000   \n",
       "T              8991.0    18.317829    8.832116   -1.9000    11.8000   \n",
       "RH             8991.0    49.234201   17.316892    9.2000    35.8000   \n",
       "AH             8991.0     1.025530    0.403813    0.1847     0.7368   \n",
       "\n",
       "                     50%        75%       max  \n",
       "PT08.S1(CO)    1063.0000  1231.0000  2040.000  \n",
       "NMHC(GT)         66.0000    66.0000  1189.000  \n",
       "C6H6(GT)          8.2000    14.0000    63.700  \n",
       "PT08.S2(NMHC)   909.0000  1116.0000  2214.000  \n",
       "NOx(GT)         140.0000   280.0000  1479.000  \n",
       "PT08.S3(NOx)    806.0000   969.5000  2683.000  \n",
       "NO2(GT)          97.0000   132.0000   333.000  \n",
       "PT08.S4(NO2)   1463.0000  1674.0000  2775.000  \n",
       "PT08.S5(O3)     963.0000  1273.5000  2523.000  \n",
       "T                17.8000    24.4000    44.600  \n",
       "RH               49.6000    62.5000    88.700  \n",
       "AH                0.9954     1.3137     2.231  "
      ]
     },
     "execution_count": 17,
     "metadata": {},
     "output_type": "execute_result"
    }
   ],
   "source": [
    "# Observando algumas medidas estatísticas das variáveis numéricas\n",
    "# Podemos observar que alguns atributos estão com o desvio padrão (std) bem alto o que pode indicar a presença de outliers.\n",
    "df_na_tratado.describe().transpose()"
   ]
  },
  {
   "cell_type": "code",
   "execution_count": 18,
   "metadata": {},
   "outputs": [
    {
     "data": {
      "image/png": "[encoded data removed]",
      "text/plain": [
       "<Figure size 1296x864 with 1 Axes>"
      ]
     },
     "metadata": {
      "needs_background": "light"
     },
     "output_type": "display_data"
    }
   ],
   "source": [
    "# Vamos plotar os dados dos atributos previsores para verificarmos os dados e indenticar outliers\n",
    "df_na_tratado.boxplot(figsize=(18,12),column=['NMHC(GT)', 'C6H6(GT)', 'PT08.S2(NMHC)', 'NOx(GT)', 'PT08.S3(NOx)', 'NO2(GT)', 'PT08.S4(NO2)', 'PT08.S5(O3)', 'T', 'RH', 'AH']);"
   ]
  },
  {
   "cell_type": "code",
   "execution_count": 19,
   "metadata": {},
   "outputs": [],
   "source": [
    "df_na_tratado.to_csv('df_na_tratado.csv', sep=';', decimal=',')"
   ]
  },
  {
   "cell_type": "code",
   "execution_count": 20,
   "metadata": {},
   "outputs": [],
   "source": [
    "# Verificando outliers com a função Z-Score\n",
    "#\"O escore Z é o número sinalizado de desvios padrão pelo qual o valor de uma observação ou ponto de dados está acima do valor médio do que está sendo observado ou medido.\"\n",
    "from scipy import stats\n",
    "\n",
    "# Mínino de desvios padrão para ser não ser considerado outlier.\n",
    "threshold = 3\n",
    "  \n",
    "def fill_na_outliers(df, coluna, threshold):\n",
    "    df[coluna] = np.where(np.abs(stats.zscore(df[coluna].values)) > threshold, np.nan, df[coluna])    "
   ]
  },
  {
   "cell_type": "code",
   "execution_count": 21,
   "metadata": {},
   "outputs": [],
   "source": [
    "# Tratando os outliers de cada dos atibutos previsores.\n",
    "for col in df_na_tratado.columns[3:]: \n",
    "    fill_na_outliers(df_na_tratado, col, threshold)"
   ]
  },
  {
   "cell_type": "code",
   "execution_count": null,
   "metadata": {},
   "outputs": [],
   "source": []
  },
  {
   "cell_type": "code",
   "execution_count": 22,
   "metadata": {},
   "outputs": [],
   "source": [
    "df_na_tratado.to_csv('df_tratado_outlier.csv', sep=';', decimal=',')"
   ]
  },
  {
   "cell_type": "code",
   "execution_count": 23,
   "metadata": {},
   "outputs": [
    {
     "data": {
      "image/png": "[encoded data removed]",
      "text/plain": [
       "<Figure size 720x576 with 12 Axes>"
      ]
     },
     "metadata": {
      "needs_background": "light"
     },
     "output_type": "display_data"
    }
   ],
   "source": [
    "# Distribuição dos atributos dos após o tratamento dos dados\n",
    "df_na_tratado.hist(figsize=(10,8))\n",
    "plt.tight_layout()\n",
    "plt.show()"
   ]
  },
  {
   "cell_type": "code",
   "execution_count": 24,
   "metadata": {},
   "outputs": [
    {
     "data": {
      "text/plain": [
       "Date             0\n",
       "Time             0\n",
       "PT08.S1(CO)      0\n",
       "NMHC(GT)         0\n",
       "C6H6(GT)         0\n",
       "PT08.S2(NMHC)    0\n",
       "NOx(GT)          0\n",
       "PT08.S3(NOx)     0\n",
       "NO2(GT)          0\n",
       "PT08.S4(NO2)     0\n",
       "PT08.S5(O3)      0\n",
       "T                0\n",
       "RH               0\n",
       "AH               0\n",
       "dtype: int64"
      ]
     },
     "execution_count": 24,
     "metadata": {},
     "output_type": "execute_result"
    }
   ],
   "source": [
    "# Nesta etapa, para substituir os valores N/A, que antes foram considerados outliers, vamos substituir pelo valor da média de cada atributo.\n",
    "df_media_valores_outlier = pd.DataFrame(df_na_tratado.fillna(round(df_na_tratado.mean())), copy=True)\n",
    "df_media_valores_outlier.isna().sum()"
   ]
  },
  {
   "cell_type": "code",
   "execution_count": null,
   "metadata": {},
   "outputs": [],
   "source": []
  },
  {
   "cell_type": "code",
   "execution_count": 25,
   "metadata": {},
   "outputs": [
    {
     "data": {
      "text/plain": [
       "Date             2004-11-03 00:00:00\n",
       "Time                        08.00.00\n",
       "PT08.S1(CO)                     1333\n",
       "NMHC(GT)                          64\n",
       "C6H6(GT)                           8\n",
       "PT08.S2(NMHC)                    900\n",
       "NOx(GT)                          174\n",
       "PT08.S3(NOx)                    1136\n",
       "NO2(GT)                          112\n",
       "PT08.S4(NO2)                    1517\n",
       "PT08.S5(O3)                     1102\n",
       "T                               10.8\n",
       "RH                              57.4\n",
       "AH                            0.7408\n",
       "Name: 14, dtype: object"
      ]
     },
     "execution_count": 25,
     "metadata": {},
     "output_type": "execute_result"
    }
   ],
   "source": [
    "df_media_valores_outlier.iloc[14]"
   ]
  },
  {
   "cell_type": "code",
   "execution_count": 26,
   "metadata": {},
   "outputs": [],
   "source": [
    "# Cria o dataframe com os valores tratados\n",
    "df_tratado = pd.DataFrame(df_media_valores_outlier, copy=True)"
   ]
  },
  {
   "cell_type": "code",
   "execution_count": 27,
   "metadata": {},
   "outputs": [],
   "source": [
    "df_tratado.to_csv('df_tratado.csv', sep=';', decimal=',')"
   ]
  },
  {
   "cell_type": "code",
   "execution_count": 28,
   "metadata": {},
   "outputs": [
    {
     "data": {
      "text/plain": [
       "(8991, 14)"
      ]
     },
     "execution_count": 28,
     "metadata": {},
     "output_type": "execute_result"
    }
   ],
   "source": [
    "df_tratado.shape"
   ]
  },
  {
   "cell_type": "code",
   "execution_count": 29,
   "metadata": {},
   "outputs": [
    {
     "data": {
      "image/png": "[encoded data removed]",
      "text/plain": [
       "<Figure size 720x576 with 12 Axes>"
      ]
     },
     "metadata": {
      "needs_background": "light"
     },
     "output_type": "display_data"
    }
   ],
   "source": [
    "# Distribuição dos atributos dos após o tratamento dos dados\n",
    "df_tratado.hist(figsize=(10,8))\n",
    "plt.tight_layout()\n",
    "plt.show()"
   ]
  },
  {
   "cell_type": "code",
   "execution_count": 30,
   "metadata": {},
   "outputs": [
    {
     "data": {
      "text/html": [
       "<div>\n",
       "<style scoped>\n",
       "    .dataframe tbody tr th:only-of-type {\n",
       "        vertical-align: middle;\n",
       "    }\n",
       "\n",
       "    .dataframe tbody tr th {\n",
       "        vertical-align: top;\n",
       "    }\n",
       "\n",
       "    .dataframe thead th {\n",
       "        text-align: right;\n",
       "    }\n",
       "</style>\n",
       "<table border=\"1\" class=\"dataframe\">\n",
       "  <thead>\n",
       "    <tr style=\"text-align: right;\">\n",
       "      <th></th>\n",
       "      <th>count</th>\n",
       "      <th>mean</th>\n",
       "      <th>std</th>\n",
       "      <th>min</th>\n",
       "      <th>25%</th>\n",
       "      <th>50%</th>\n",
       "      <th>75%</th>\n",
       "      <th>max</th>\n",
       "    </tr>\n",
       "  </thead>\n",
       "  <tbody>\n",
       "    <tr>\n",
       "      <th>PT08.S1(CO)</th>\n",
       "      <td>8991.0</td>\n",
       "      <td>1099.833166</td>\n",
       "      <td>217.080037</td>\n",
       "      <td>647.0000</td>\n",
       "      <td>937.0000</td>\n",
       "      <td>1063.0000</td>\n",
       "      <td>1231.0000</td>\n",
       "      <td>2040.000</td>\n",
       "    </tr>\n",
       "    <tr>\n",
       "      <th>NMHC(GT)</th>\n",
       "      <td>887.0</td>\n",
       "      <td>218.607666</td>\n",
       "      <td>206.615130</td>\n",
       "      <td>7.0000</td>\n",
       "      <td>66.0000</td>\n",
       "      <td>145.0000</td>\n",
       "      <td>297.0000</td>\n",
       "      <td>1189.000</td>\n",
       "    </tr>\n",
       "    <tr>\n",
       "      <th>C6H6(GT)</th>\n",
       "      <td>8991.0</td>\n",
       "      <td>10.083105</td>\n",
       "      <td>7.449820</td>\n",
       "      <td>0.1000</td>\n",
       "      <td>4.4000</td>\n",
       "      <td>8.2000</td>\n",
       "      <td>14.0000</td>\n",
       "      <td>63.700</td>\n",
       "    </tr>\n",
       "    <tr>\n",
       "      <th>PT08.S2(NMHC)</th>\n",
       "      <td>8991.0</td>\n",
       "      <td>939.153376</td>\n",
       "      <td>266.831429</td>\n",
       "      <td>383.0000</td>\n",
       "      <td>734.5000</td>\n",
       "      <td>909.0000</td>\n",
       "      <td>1116.0000</td>\n",
       "      <td>2214.000</td>\n",
       "    </tr>\n",
       "    <tr>\n",
       "      <th>NOx(GT)</th>\n",
       "      <td>7396.0</td>\n",
       "      <td>242.189292</td>\n",
       "      <td>206.312007</td>\n",
       "      <td>2.0000</td>\n",
       "      <td>97.0000</td>\n",
       "      <td>178.0000</td>\n",
       "      <td>321.0000</td>\n",
       "      <td>1479.000</td>\n",
       "    </tr>\n",
       "    <tr>\n",
       "      <th>PT08.S3(NOx)</th>\n",
       "      <td>8991.0</td>\n",
       "      <td>835.493605</td>\n",
       "      <td>256.817320</td>\n",
       "      <td>322.0000</td>\n",
       "      <td>658.0000</td>\n",
       "      <td>806.0000</td>\n",
       "      <td>969.5000</td>\n",
       "      <td>2683.000</td>\n",
       "    </tr>\n",
       "    <tr>\n",
       "      <th>NO2(GT)</th>\n",
       "      <td>7393.0</td>\n",
       "      <td>112.145137</td>\n",
       "      <td>47.629141</td>\n",
       "      <td>2.0000</td>\n",
       "      <td>77.0000</td>\n",
       "      <td>109.0000</td>\n",
       "      <td>140.0000</td>\n",
       "      <td>333.000</td>\n",
       "    </tr>\n",
       "    <tr>\n",
       "      <th>PT08.S4(NO2)</th>\n",
       "      <td>8991.0</td>\n",
       "      <td>1456.264598</td>\n",
       "      <td>346.206794</td>\n",
       "      <td>551.0000</td>\n",
       "      <td>1227.0000</td>\n",
       "      <td>1463.0000</td>\n",
       "      <td>1674.0000</td>\n",
       "      <td>2775.000</td>\n",
       "    </tr>\n",
       "    <tr>\n",
       "      <th>PT08.S5(O3)</th>\n",
       "      <td>8991.0</td>\n",
       "      <td>1022.906128</td>\n",
       "      <td>398.484288</td>\n",
       "      <td>221.0000</td>\n",
       "      <td>731.5000</td>\n",
       "      <td>963.0000</td>\n",
       "      <td>1273.5000</td>\n",
       "      <td>2523.000</td>\n",
       "    </tr>\n",
       "    <tr>\n",
       "      <th>T</th>\n",
       "      <td>8991.0</td>\n",
       "      <td>18.317829</td>\n",
       "      <td>8.832116</td>\n",
       "      <td>-1.9000</td>\n",
       "      <td>11.8000</td>\n",
       "      <td>17.8000</td>\n",
       "      <td>24.4000</td>\n",
       "      <td>44.600</td>\n",
       "    </tr>\n",
       "    <tr>\n",
       "      <th>RH</th>\n",
       "      <td>8991.0</td>\n",
       "      <td>49.234201</td>\n",
       "      <td>17.316892</td>\n",
       "      <td>9.2000</td>\n",
       "      <td>35.8000</td>\n",
       "      <td>49.6000</td>\n",
       "      <td>62.5000</td>\n",
       "      <td>88.700</td>\n",
       "    </tr>\n",
       "    <tr>\n",
       "      <th>AH</th>\n",
       "      <td>8991.0</td>\n",
       "      <td>1.025530</td>\n",
       "      <td>0.403813</td>\n",
       "      <td>0.1847</td>\n",
       "      <td>0.7368</td>\n",
       "      <td>0.9954</td>\n",
       "      <td>1.3137</td>\n",
       "      <td>2.231</td>\n",
       "    </tr>\n",
       "  </tbody>\n",
       "</table>\n",
       "</div>"
      ],
      "text/plain": [
       "                count         mean         std       min        25%  \\\n",
       "PT08.S1(CO)    8991.0  1099.833166  217.080037  647.0000   937.0000   \n",
       "NMHC(GT)        887.0   218.607666  206.615130    7.0000    66.0000   \n",
       "C6H6(GT)       8991.0    10.083105    7.449820    0.1000     4.4000   \n",
       "PT08.S2(NMHC)  8991.0   939.153376  266.831429  383.0000   734.5000   \n",
       "NOx(GT)        7396.0   242.189292  206.312007    2.0000    97.0000   \n",
       "PT08.S3(NOx)   8991.0   835.493605  256.817320  322.0000   658.0000   \n",
       "NO2(GT)        7393.0   112.145137   47.629141    2.0000    77.0000   \n",
       "PT08.S4(NO2)   8991.0  1456.264598  346.206794  551.0000  1227.0000   \n",
       "PT08.S5(O3)    8991.0  1022.906128  398.484288  221.0000   731.5000   \n",
       "T              8991.0    18.317829    8.832116   -1.9000    11.8000   \n",
       "RH             8991.0    49.234201   17.316892    9.2000    35.8000   \n",
       "AH             8991.0     1.025530    0.403813    0.1847     0.7368   \n",
       "\n",
       "                     50%        75%       max  \n",
       "PT08.S1(CO)    1063.0000  1231.0000  2040.000  \n",
       "NMHC(GT)        145.0000   297.0000  1189.000  \n",
       "C6H6(GT)          8.2000    14.0000    63.700  \n",
       "PT08.S2(NMHC)   909.0000  1116.0000  2214.000  \n",
       "NOx(GT)         178.0000   321.0000  1479.000  \n",
       "PT08.S3(NOx)    806.0000   969.5000  2683.000  \n",
       "NO2(GT)         109.0000   140.0000   333.000  \n",
       "PT08.S4(NO2)   1463.0000  1674.0000  2775.000  \n",
       "PT08.S5(O3)     963.0000  1273.5000  2523.000  \n",
       "T                17.8000    24.4000    44.600  \n",
       "RH               49.6000    62.5000    88.700  \n",
       "AH                0.9954     1.3137     2.231  "
      ]
     },
     "execution_count": 30,
     "metadata": {},
     "output_type": "execute_result"
    }
   ],
   "source": [
    "df_ar.describe().transpose()"
   ]
  },
  {
   "cell_type": "code",
   "execution_count": 31,
   "metadata": {},
   "outputs": [
    {
     "data": {
      "text/html": [
       "<div>\n",
       "<style scoped>\n",
       "    .dataframe tbody tr th:only-of-type {\n",
       "        vertical-align: middle;\n",
       "    }\n",
       "\n",
       "    .dataframe tbody tr th {\n",
       "        vertical-align: top;\n",
       "    }\n",
       "\n",
       "    .dataframe thead th {\n",
       "        text-align: right;\n",
       "    }\n",
       "</style>\n",
       "<table border=\"1\" class=\"dataframe\">\n",
       "  <thead>\n",
       "    <tr style=\"text-align: right;\">\n",
       "      <th></th>\n",
       "      <th>count</th>\n",
       "      <th>mean</th>\n",
       "      <th>std</th>\n",
       "      <th>min</th>\n",
       "      <th>25%</th>\n",
       "      <th>50%</th>\n",
       "      <th>75%</th>\n",
       "      <th>max</th>\n",
       "    </tr>\n",
       "  </thead>\n",
       "  <tbody>\n",
       "    <tr>\n",
       "      <th>PT08.S1(CO)</th>\n",
       "      <td>8991.0</td>\n",
       "      <td>1099.833166</td>\n",
       "      <td>217.080037</td>\n",
       "      <td>647.0000</td>\n",
       "      <td>937.0000</td>\n",
       "      <td>1063.0000</td>\n",
       "      <td>1231.0000</td>\n",
       "      <td>2040.000</td>\n",
       "    </tr>\n",
       "    <tr>\n",
       "      <th>NMHC(GT)</th>\n",
       "      <td>8991.0</td>\n",
       "      <td>70.330553</td>\n",
       "      <td>26.458029</td>\n",
       "      <td>7.0000</td>\n",
       "      <td>66.0000</td>\n",
       "      <td>66.0000</td>\n",
       "      <td>66.0000</td>\n",
       "      <td>318.000</td>\n",
       "    </tr>\n",
       "    <tr>\n",
       "      <th>C6H6(GT)</th>\n",
       "      <td>8991.0</td>\n",
       "      <td>9.712068</td>\n",
       "      <td>6.674864</td>\n",
       "      <td>0.1000</td>\n",
       "      <td>4.4000</td>\n",
       "      <td>8.2000</td>\n",
       "      <td>13.6000</td>\n",
       "      <td>32.400</td>\n",
       "    </tr>\n",
       "    <tr>\n",
       "      <th>PT08.S2(NMHC)</th>\n",
       "      <td>8991.0</td>\n",
       "      <td>935.324547</td>\n",
       "      <td>260.032659</td>\n",
       "      <td>383.0000</td>\n",
       "      <td>734.5000</td>\n",
       "      <td>909.0000</td>\n",
       "      <td>1111.0000</td>\n",
       "      <td>1737.000</td>\n",
       "    </tr>\n",
       "    <tr>\n",
       "      <th>NOx(GT)</th>\n",
       "      <td>8991.0</td>\n",
       "      <td>199.394506</td>\n",
       "      <td>162.182809</td>\n",
       "      <td>2.0000</td>\n",
       "      <td>89.0000</td>\n",
       "      <td>140.0000</td>\n",
       "      <td>264.5000</td>\n",
       "      <td>803.000</td>\n",
       "    </tr>\n",
       "    <tr>\n",
       "      <th>PT08.S3(NOx)</th>\n",
       "      <td>8991.0</td>\n",
       "      <td>823.310199</td>\n",
       "      <td>230.950457</td>\n",
       "      <td>322.0000</td>\n",
       "      <td>658.0000</td>\n",
       "      <td>806.0000</td>\n",
       "      <td>959.0000</td>\n",
       "      <td>1604.000</td>\n",
       "    </tr>\n",
       "    <tr>\n",
       "      <th>NO2(GT)</th>\n",
       "      <td>8991.0</td>\n",
       "      <td>108.144589</td>\n",
       "      <td>41.166198</td>\n",
       "      <td>2.0000</td>\n",
       "      <td>85.0000</td>\n",
       "      <td>97.0000</td>\n",
       "      <td>130.0000</td>\n",
       "      <td>240.000</td>\n",
       "    </tr>\n",
       "    <tr>\n",
       "      <th>PT08.S4(NO2)</th>\n",
       "      <td>8991.0</td>\n",
       "      <td>1451.417306</td>\n",
       "      <td>338.095392</td>\n",
       "      <td>551.0000</td>\n",
       "      <td>1227.0000</td>\n",
       "      <td>1459.0000</td>\n",
       "      <td>1669.0000</td>\n",
       "      <td>2488.000</td>\n",
       "    </tr>\n",
       "    <tr>\n",
       "      <th>PT08.S5(O3)</th>\n",
       "      <td>8991.0</td>\n",
       "      <td>1017.383383</td>\n",
       "      <td>389.067583</td>\n",
       "      <td>221.0000</td>\n",
       "      <td>731.5000</td>\n",
       "      <td>963.0000</td>\n",
       "      <td>1268.0000</td>\n",
       "      <td>2214.000</td>\n",
       "    </tr>\n",
       "    <tr>\n",
       "      <th>T</th>\n",
       "      <td>8991.0</td>\n",
       "      <td>18.317829</td>\n",
       "      <td>8.832116</td>\n",
       "      <td>-1.9000</td>\n",
       "      <td>11.8000</td>\n",
       "      <td>17.8000</td>\n",
       "      <td>24.4000</td>\n",
       "      <td>44.600</td>\n",
       "    </tr>\n",
       "    <tr>\n",
       "      <th>RH</th>\n",
       "      <td>8991.0</td>\n",
       "      <td>49.234201</td>\n",
       "      <td>17.316892</td>\n",
       "      <td>9.2000</td>\n",
       "      <td>35.8000</td>\n",
       "      <td>49.6000</td>\n",
       "      <td>62.5000</td>\n",
       "      <td>88.700</td>\n",
       "    </tr>\n",
       "    <tr>\n",
       "      <th>AH</th>\n",
       "      <td>8991.0</td>\n",
       "      <td>1.025530</td>\n",
       "      <td>0.403813</td>\n",
       "      <td>0.1847</td>\n",
       "      <td>0.7368</td>\n",
       "      <td>0.9954</td>\n",
       "      <td>1.3137</td>\n",
       "      <td>2.231</td>\n",
       "    </tr>\n",
       "  </tbody>\n",
       "</table>\n",
       "</div>"
      ],
      "text/plain": [
       "                count         mean         std       min        25%  \\\n",
       "PT08.S1(CO)    8991.0  1099.833166  217.080037  647.0000   937.0000   \n",
       "NMHC(GT)       8991.0    70.330553   26.458029    7.0000    66.0000   \n",
       "C6H6(GT)       8991.0     9.712068    6.674864    0.1000     4.4000   \n",
       "PT08.S2(NMHC)  8991.0   935.324547  260.032659  383.0000   734.5000   \n",
       "NOx(GT)        8991.0   199.394506  162.182809    2.0000    89.0000   \n",
       "PT08.S3(NOx)   8991.0   823.310199  230.950457  322.0000   658.0000   \n",
       "NO2(GT)        8991.0   108.144589   41.166198    2.0000    85.0000   \n",
       "PT08.S4(NO2)   8991.0  1451.417306  338.095392  551.0000  1227.0000   \n",
       "PT08.S5(O3)    8991.0  1017.383383  389.067583  221.0000   731.5000   \n",
       "T              8991.0    18.317829    8.832116   -1.9000    11.8000   \n",
       "RH             8991.0    49.234201   17.316892    9.2000    35.8000   \n",
       "AH             8991.0     1.025530    0.403813    0.1847     0.7368   \n",
       "\n",
       "                     50%        75%       max  \n",
       "PT08.S1(CO)    1063.0000  1231.0000  2040.000  \n",
       "NMHC(GT)         66.0000    66.0000   318.000  \n",
       "C6H6(GT)          8.2000    13.6000    32.400  \n",
       "PT08.S2(NMHC)   909.0000  1111.0000  1737.000  \n",
       "NOx(GT)         140.0000   264.5000   803.000  \n",
       "PT08.S3(NOx)    806.0000   959.0000  1604.000  \n",
       "NO2(GT)          97.0000   130.0000   240.000  \n",
       "PT08.S4(NO2)   1459.0000  1669.0000  2488.000  \n",
       "PT08.S5(O3)     963.0000  1268.0000  2214.000  \n",
       "T                17.8000    24.4000    44.600  \n",
       "RH               49.6000    62.5000    88.700  \n",
       "AH                0.9954     1.3137     2.231  "
      ]
     },
     "execution_count": 31,
     "metadata": {},
     "output_type": "execute_result"
    }
   ],
   "source": [
    "df_tratado.describe().transpose()"
   ]
  },
  {
   "cell_type": "code",
   "execution_count": 32,
   "metadata": {
    "scrolled": true
   },
   "outputs": [
    {
     "data": {
      "text/html": [
       "<div>\n",
       "<style scoped>\n",
       "    .dataframe tbody tr th:only-of-type {\n",
       "        vertical-align: middle;\n",
       "    }\n",
       "\n",
       "    .dataframe tbody tr th {\n",
       "        vertical-align: top;\n",
       "    }\n",
       "\n",
       "    .dataframe thead th {\n",
       "        text-align: right;\n",
       "    }\n",
       "</style>\n",
       "<table border=\"1\" class=\"dataframe\">\n",
       "  <thead>\n",
       "    <tr style=\"text-align: right;\">\n",
       "      <th></th>\n",
       "      <th>Date</th>\n",
       "      <th>Time</th>\n",
       "      <th>PT08.S1(CO)</th>\n",
       "      <th>NMHC(GT)</th>\n",
       "      <th>C6H6(GT)</th>\n",
       "      <th>PT08.S2(NMHC)</th>\n",
       "      <th>NOx(GT)</th>\n",
       "      <th>PT08.S3(NOx)</th>\n",
       "      <th>NO2(GT)</th>\n",
       "      <th>PT08.S4(NO2)</th>\n",
       "      <th>PT08.S5(O3)</th>\n",
       "      <th>T</th>\n",
       "      <th>RH</th>\n",
       "      <th>AH</th>\n",
       "    </tr>\n",
       "  </thead>\n",
       "  <tbody>\n",
       "    <tr>\n",
       "      <th>0</th>\n",
       "      <td>2004-10-03</td>\n",
       "      <td>18.00.00</td>\n",
       "      <td>1360.0</td>\n",
       "      <td>150.0</td>\n",
       "      <td>11.9</td>\n",
       "      <td>1046.0</td>\n",
       "      <td>166.0</td>\n",
       "      <td>1056.0</td>\n",
       "      <td>113.0</td>\n",
       "      <td>1692.0</td>\n",
       "      <td>1268.0</td>\n",
       "      <td>13.6</td>\n",
       "      <td>48.9</td>\n",
       "      <td>0.7578</td>\n",
       "    </tr>\n",
       "    <tr>\n",
       "      <th>1</th>\n",
       "      <td>2004-10-03</td>\n",
       "      <td>19.00.00</td>\n",
       "      <td>1292.0</td>\n",
       "      <td>112.0</td>\n",
       "      <td>9.4</td>\n",
       "      <td>955.0</td>\n",
       "      <td>103.0</td>\n",
       "      <td>1174.0</td>\n",
       "      <td>92.0</td>\n",
       "      <td>1559.0</td>\n",
       "      <td>972.0</td>\n",
       "      <td>13.3</td>\n",
       "      <td>47.7</td>\n",
       "      <td>0.7255</td>\n",
       "    </tr>\n",
       "    <tr>\n",
       "      <th>2</th>\n",
       "      <td>2004-10-03</td>\n",
       "      <td>20.00.00</td>\n",
       "      <td>1402.0</td>\n",
       "      <td>88.0</td>\n",
       "      <td>9.0</td>\n",
       "      <td>939.0</td>\n",
       "      <td>131.0</td>\n",
       "      <td>1140.0</td>\n",
       "      <td>114.0</td>\n",
       "      <td>1555.0</td>\n",
       "      <td>1074.0</td>\n",
       "      <td>11.9</td>\n",
       "      <td>54.0</td>\n",
       "      <td>0.7502</td>\n",
       "    </tr>\n",
       "    <tr>\n",
       "      <th>3</th>\n",
       "      <td>2004-10-03</td>\n",
       "      <td>21.00.00</td>\n",
       "      <td>1376.0</td>\n",
       "      <td>80.0</td>\n",
       "      <td>9.2</td>\n",
       "      <td>948.0</td>\n",
       "      <td>172.0</td>\n",
       "      <td>1092.0</td>\n",
       "      <td>122.0</td>\n",
       "      <td>1584.0</td>\n",
       "      <td>1203.0</td>\n",
       "      <td>11.0</td>\n",
       "      <td>60.0</td>\n",
       "      <td>0.7867</td>\n",
       "    </tr>\n",
       "    <tr>\n",
       "      <th>4</th>\n",
       "      <td>2004-10-03</td>\n",
       "      <td>22.00.00</td>\n",
       "      <td>1272.0</td>\n",
       "      <td>51.0</td>\n",
       "      <td>6.5</td>\n",
       "      <td>836.0</td>\n",
       "      <td>131.0</td>\n",
       "      <td>1205.0</td>\n",
       "      <td>116.0</td>\n",
       "      <td>1490.0</td>\n",
       "      <td>1110.0</td>\n",
       "      <td>11.2</td>\n",
       "      <td>59.6</td>\n",
       "      <td>0.7888</td>\n",
       "    </tr>\n",
       "  </tbody>\n",
       "</table>\n",
       "</div>"
      ],
      "text/plain": [
       "        Date      Time  PT08.S1(CO)  NMHC(GT)  C6H6(GT)  PT08.S2(NMHC)  \\\n",
       "0 2004-10-03  18.00.00       1360.0     150.0      11.9         1046.0   \n",
       "1 2004-10-03  19.00.00       1292.0     112.0       9.4          955.0   \n",
       "2 2004-10-03  20.00.00       1402.0      88.0       9.0          939.0   \n",
       "3 2004-10-03  21.00.00       1376.0      80.0       9.2          948.0   \n",
       "4 2004-10-03  22.00.00       1272.0      51.0       6.5          836.0   \n",
       "\n",
       "   NOx(GT)  PT08.S3(NOx)  NO2(GT)  PT08.S4(NO2)  PT08.S5(O3)     T    RH  \\\n",
       "0    166.0        1056.0    113.0        1692.0       1268.0  13.6  48.9   \n",
       "1    103.0        1174.0     92.0        1559.0        972.0  13.3  47.7   \n",
       "2    131.0        1140.0    114.0        1555.0       1074.0  11.9  54.0   \n",
       "3    172.0        1092.0    122.0        1584.0       1203.0  11.0  60.0   \n",
       "4    131.0        1205.0    116.0        1490.0       1110.0  11.2  59.6   \n",
       "\n",
       "       AH  \n",
       "0  0.7578  \n",
       "1  0.7255  \n",
       "2  0.7502  \n",
       "3  0.7867  \n",
       "4  0.7888  "
      ]
     },
     "execution_count": 32,
     "metadata": {},
     "output_type": "execute_result"
    }
   ],
   "source": [
    "df_tratado.head()"
   ]
  },
  {
   "cell_type": "code",
   "execution_count": null,
   "metadata": {},
   "outputs": [],
   "source": []
  },
  {
   "cell_type": "code",
   "execution_count": null,
   "metadata": {},
   "outputs": [],
   "source": []
  },
  {
   "cell_type": "code",
   "execution_count": null,
   "metadata": {},
   "outputs": [],
   "source": []
  },
  {
   "cell_type": "code",
   "execution_count": 33,
   "metadata": {},
   "outputs": [
    {
     "data": {
      "image/png": "[encoded data removed]",
      "text/plain": [
       "<Figure size 1296x864 with 1 Axes>"
      ]
     },
     "metadata": {
      "needs_background": "light"
     },
     "output_type": "display_data"
    }
   ],
   "source": [
    "df_tratado.boxplot(figsize=(18,12), column=['NMHC(GT)', 'C6H6(GT)', 'PT08.S2(NMHC)', 'NOx(GT)', 'PT08.S3(NOx)', 'NO2(GT)', 'PT08.S4(NO2)', 'PT08.S5(O3)', 'T', 'RH', 'AH']);"
   ]
  },
  {
   "cell_type": "code",
   "execution_count": null,
   "metadata": {},
   "outputs": [],
   "source": []
  },
  {
   "cell_type": "code",
   "execution_count": null,
   "metadata": {},
   "outputs": [],
   "source": []
  },
  {
   "cell_type": "code",
   "execution_count": null,
   "metadata": {},
   "outputs": [],
   "source": []
  },
  {
   "cell_type": "code",
   "execution_count": null,
   "metadata": {},
   "outputs": [],
   "source": []
  },
  {
   "cell_type": "code",
   "execution_count": 34,
   "metadata": {},
   "outputs": [
    {
     "ename": "TypeError",
     "evalue": "Only valid with DatetimeIndex, TimedeltaIndex or PeriodIndex, but got an instance of 'Int64Index'",
     "output_type": "error",
     "traceback": [
      "\u001b[0;31m---------------------------------------------------------------------------\u001b[0m",
      "\u001b[0;31mTypeError\u001b[0m                                 Traceback (most recent call last)",
      "\u001b[0;32m<ipython-input-34-31f8254785a1>\u001b[0m in \u001b[0;36m<module>\u001b[0;34m\u001b[0m\n\u001b[1;32m      1\u001b[0m \u001b[0;31m# Visualizado os dados agrupados por ano\u001b[0m\u001b[0;34m\u001b[0m\u001b[0;34m\u001b[0m\u001b[0;34m\u001b[0m\u001b[0m\n\u001b[1;32m      2\u001b[0m \u001b[0mdf_ar\u001b[0m\u001b[0;34m.\u001b[0m\u001b[0mset_index\u001b[0m\u001b[0;34m(\u001b[0m\u001b[0;34m'Date'\u001b[0m\u001b[0;34m)\u001b[0m\u001b[0;34m\u001b[0m\u001b[0;34m\u001b[0m\u001b[0m\n\u001b[0;32m----> 3\u001b[0;31m \u001b[0mgrupos\u001b[0m \u001b[0;34m=\u001b[0m \u001b[0mdf_ar\u001b[0m\u001b[0;34m.\u001b[0m\u001b[0mgroupby\u001b[0m\u001b[0;34m(\u001b[0m\u001b[0mpd\u001b[0m\u001b[0;34m.\u001b[0m\u001b[0mGrouper\u001b[0m\u001b[0;34m(\u001b[0m\u001b[0mfreq\u001b[0m\u001b[0;34m=\u001b[0m\u001b[0;34m'Y'\u001b[0m\u001b[0;34m)\u001b[0m\u001b[0;34m)\u001b[0m\u001b[0;34m\u001b[0m\u001b[0;34m\u001b[0m\u001b[0m\n\u001b[0m\u001b[1;32m      4\u001b[0m \u001b[0mdf_anos\u001b[0m \u001b[0;34m=\u001b[0m \u001b[0mpd\u001b[0m\u001b[0;34m.\u001b[0m\u001b[0mDataFrame\u001b[0m\u001b[0;34m(\u001b[0m\u001b[0;34m)\u001b[0m\u001b[0;34m\u001b[0m\u001b[0;34m\u001b[0m\u001b[0m\n\u001b[1;32m      5\u001b[0m \u001b[0;34m\u001b[0m\u001b[0m\n",
      "\u001b[0;32m~/anaconda3/lib/python3.7/site-packages/pandas/core/generic.py\u001b[0m in \u001b[0;36mgroupby\u001b[0;34m(self, by, axis, level, as_index, sort, group_keys, squeeze, observed, **kwargs)\u001b[0m\n\u001b[1;32m   7630\u001b[0m         return groupby(self, by=by, axis=axis, level=level, as_index=as_index,\n\u001b[1;32m   7631\u001b[0m                        \u001b[0msort\u001b[0m\u001b[0;34m=\u001b[0m\u001b[0msort\u001b[0m\u001b[0;34m,\u001b[0m \u001b[0mgroup_keys\u001b[0m\u001b[0;34m=\u001b[0m\u001b[0mgroup_keys\u001b[0m\u001b[0;34m,\u001b[0m \u001b[0msqueeze\u001b[0m\u001b[0;34m=\u001b[0m\u001b[0msqueeze\u001b[0m\u001b[0;34m,\u001b[0m\u001b[0;34m\u001b[0m\u001b[0;34m\u001b[0m\u001b[0m\n\u001b[0;32m-> 7632\u001b[0;31m                        observed=observed, **kwargs)\n\u001b[0m\u001b[1;32m   7633\u001b[0m \u001b[0;34m\u001b[0m\u001b[0m\n\u001b[1;32m   7634\u001b[0m     def asfreq(self, freq, method=None, how=None, normalize=False,\n",
      "\u001b[0;32m~/anaconda3/lib/python3.7/site-packages/pandas/core/groupby/groupby.py\u001b[0m in \u001b[0;36mgroupby\u001b[0;34m(obj, by, **kwds)\u001b[0m\n\u001b[1;32m   2108\u001b[0m         \u001b[0;32mraise\u001b[0m \u001b[0mTypeError\u001b[0m\u001b[0;34m(\u001b[0m\u001b[0;34m'invalid type: {}'\u001b[0m\u001b[0;34m.\u001b[0m\u001b[0mformat\u001b[0m\u001b[0;34m(\u001b[0m\u001b[0mobj\u001b[0m\u001b[0;34m)\u001b[0m\u001b[0;34m)\u001b[0m\u001b[0;34m\u001b[0m\u001b[0;34m\u001b[0m\u001b[0m\n\u001b[1;32m   2109\u001b[0m \u001b[0;34m\u001b[0m\u001b[0m\n\u001b[0;32m-> 2110\u001b[0;31m     \u001b[0;32mreturn\u001b[0m \u001b[0mklass\u001b[0m\u001b[0;34m(\u001b[0m\u001b[0mobj\u001b[0m\u001b[0;34m,\u001b[0m \u001b[0mby\u001b[0m\u001b[0;34m,\u001b[0m \u001b[0;34m**\u001b[0m\u001b[0mkwds\u001b[0m\u001b[0;34m)\u001b[0m\u001b[0;34m\u001b[0m\u001b[0;34m\u001b[0m\u001b[0m\n\u001b[0m",
      "\u001b[0;32m~/anaconda3/lib/python3.7/site-packages/pandas/core/groupby/groupby.py\u001b[0m in \u001b[0;36m__init__\u001b[0;34m(self, obj, keys, axis, level, grouper, exclusions, selection, as_index, sort, group_keys, squeeze, observed, **kwargs)\u001b[0m\n\u001b[1;32m    358\u001b[0m                                                     \u001b[0msort\u001b[0m\u001b[0;34m=\u001b[0m\u001b[0msort\u001b[0m\u001b[0;34m,\u001b[0m\u001b[0;34m\u001b[0m\u001b[0;34m\u001b[0m\u001b[0m\n\u001b[1;32m    359\u001b[0m                                                     \u001b[0mobserved\u001b[0m\u001b[0;34m=\u001b[0m\u001b[0mobserved\u001b[0m\u001b[0;34m,\u001b[0m\u001b[0;34m\u001b[0m\u001b[0;34m\u001b[0m\u001b[0m\n\u001b[0;32m--> 360\u001b[0;31m                                                     mutated=self.mutated)\n\u001b[0m\u001b[1;32m    361\u001b[0m \u001b[0;34m\u001b[0m\u001b[0m\n\u001b[1;32m    362\u001b[0m         \u001b[0mself\u001b[0m\u001b[0;34m.\u001b[0m\u001b[0mobj\u001b[0m \u001b[0;34m=\u001b[0m \u001b[0mobj\u001b[0m\u001b[0;34m\u001b[0m\u001b[0;34m\u001b[0m\u001b[0m\n",
      "\u001b[0;32m~/anaconda3/lib/python3.7/site-packages/pandas/core/groupby/grouper.py\u001b[0m in \u001b[0;36m_get_grouper\u001b[0;34m(obj, key, axis, level, sort, observed, mutated, validate)\u001b[0m\n\u001b[1;32m    476\u001b[0m     \u001b[0;31m# a passed-in Grouper, directly convert\u001b[0m\u001b[0;34m\u001b[0m\u001b[0;34m\u001b[0m\u001b[0;34m\u001b[0m\u001b[0m\n\u001b[1;32m    477\u001b[0m     \u001b[0;32mif\u001b[0m \u001b[0misinstance\u001b[0m\u001b[0;34m(\u001b[0m\u001b[0mkey\u001b[0m\u001b[0;34m,\u001b[0m \u001b[0mGrouper\u001b[0m\u001b[0;34m)\u001b[0m\u001b[0;34m:\u001b[0m\u001b[0;34m\u001b[0m\u001b[0;34m\u001b[0m\u001b[0m\n\u001b[0;32m--> 478\u001b[0;31m         \u001b[0mbinner\u001b[0m\u001b[0;34m,\u001b[0m \u001b[0mgrouper\u001b[0m\u001b[0;34m,\u001b[0m \u001b[0mobj\u001b[0m \u001b[0;34m=\u001b[0m \u001b[0mkey\u001b[0m\u001b[0;34m.\u001b[0m\u001b[0m_get_grouper\u001b[0m\u001b[0;34m(\u001b[0m\u001b[0mobj\u001b[0m\u001b[0;34m,\u001b[0m \u001b[0mvalidate\u001b[0m\u001b[0;34m=\u001b[0m\u001b[0;32mFalse\u001b[0m\u001b[0;34m)\u001b[0m\u001b[0;34m\u001b[0m\u001b[0;34m\u001b[0m\u001b[0m\n\u001b[0m\u001b[1;32m    479\u001b[0m         \u001b[0;32mif\u001b[0m \u001b[0mkey\u001b[0m\u001b[0;34m.\u001b[0m\u001b[0mkey\u001b[0m \u001b[0;32mis\u001b[0m \u001b[0;32mNone\u001b[0m\u001b[0;34m:\u001b[0m\u001b[0;34m\u001b[0m\u001b[0;34m\u001b[0m\u001b[0m\n\u001b[1;32m    480\u001b[0m             \u001b[0;32mreturn\u001b[0m \u001b[0mgrouper\u001b[0m\u001b[0;34m,\u001b[0m \u001b[0;34m[\u001b[0m\u001b[0;34m]\u001b[0m\u001b[0;34m,\u001b[0m \u001b[0mobj\u001b[0m\u001b[0;34m\u001b[0m\u001b[0;34m\u001b[0m\u001b[0m\n",
      "\u001b[0;32m~/anaconda3/lib/python3.7/site-packages/pandas/core/resample.py\u001b[0m in \u001b[0;36m_get_grouper\u001b[0;34m(self, obj, validate)\u001b[0m\n\u001b[1;32m   1382\u001b[0m     \u001b[0;32mdef\u001b[0m \u001b[0m_get_grouper\u001b[0m\u001b[0;34m(\u001b[0m\u001b[0mself\u001b[0m\u001b[0;34m,\u001b[0m \u001b[0mobj\u001b[0m\u001b[0;34m,\u001b[0m \u001b[0mvalidate\u001b[0m\u001b[0;34m=\u001b[0m\u001b[0;32mTrue\u001b[0m\u001b[0;34m)\u001b[0m\u001b[0;34m:\u001b[0m\u001b[0;34m\u001b[0m\u001b[0;34m\u001b[0m\u001b[0m\n\u001b[1;32m   1383\u001b[0m         \u001b[0;31m# create the resampler and return our binner\u001b[0m\u001b[0;34m\u001b[0m\u001b[0;34m\u001b[0m\u001b[0;34m\u001b[0m\u001b[0m\n\u001b[0;32m-> 1384\u001b[0;31m         \u001b[0mr\u001b[0m \u001b[0;34m=\u001b[0m \u001b[0mself\u001b[0m\u001b[0;34m.\u001b[0m\u001b[0m_get_resampler\u001b[0m\u001b[0;34m(\u001b[0m\u001b[0mobj\u001b[0m\u001b[0;34m)\u001b[0m\u001b[0;34m\u001b[0m\u001b[0;34m\u001b[0m\u001b[0m\n\u001b[0m\u001b[1;32m   1385\u001b[0m         \u001b[0mr\u001b[0m\u001b[0;34m.\u001b[0m\u001b[0m_set_binner\u001b[0m\u001b[0;34m(\u001b[0m\u001b[0;34m)\u001b[0m\u001b[0;34m\u001b[0m\u001b[0;34m\u001b[0m\u001b[0m\n\u001b[1;32m   1386\u001b[0m         \u001b[0;32mreturn\u001b[0m \u001b[0mr\u001b[0m\u001b[0;34m.\u001b[0m\u001b[0mbinner\u001b[0m\u001b[0;34m,\u001b[0m \u001b[0mr\u001b[0m\u001b[0;34m.\u001b[0m\u001b[0mgrouper\u001b[0m\u001b[0;34m,\u001b[0m \u001b[0mr\u001b[0m\u001b[0;34m.\u001b[0m\u001b[0mobj\u001b[0m\u001b[0;34m\u001b[0m\u001b[0;34m\u001b[0m\u001b[0m\n",
      "\u001b[0;32m~/anaconda3/lib/python3.7/site-packages/pandas/core/resample.py\u001b[0m in \u001b[0;36m_get_resampler\u001b[0;34m(self, obj, kind)\u001b[0m\n\u001b[1;32m   1378\u001b[0m         raise TypeError(\"Only valid with DatetimeIndex, \"\n\u001b[1;32m   1379\u001b[0m                         \u001b[0;34m\"TimedeltaIndex or PeriodIndex, \"\u001b[0m\u001b[0;34m\u001b[0m\u001b[0;34m\u001b[0m\u001b[0m\n\u001b[0;32m-> 1380\u001b[0;31m                         \"but got an instance of %r\" % type(ax).__name__)\n\u001b[0m\u001b[1;32m   1381\u001b[0m \u001b[0;34m\u001b[0m\u001b[0m\n\u001b[1;32m   1382\u001b[0m     \u001b[0;32mdef\u001b[0m \u001b[0m_get_grouper\u001b[0m\u001b[0;34m(\u001b[0m\u001b[0mself\u001b[0m\u001b[0;34m,\u001b[0m \u001b[0mobj\u001b[0m\u001b[0;34m,\u001b[0m \u001b[0mvalidate\u001b[0m\u001b[0;34m=\u001b[0m\u001b[0;32mTrue\u001b[0m\u001b[0;34m)\u001b[0m\u001b[0;34m:\u001b[0m\u001b[0;34m\u001b[0m\u001b[0;34m\u001b[0m\u001b[0m\n",
      "\u001b[0;31mTypeError\u001b[0m: Only valid with DatetimeIndex, TimedeltaIndex or PeriodIndex, but got an instance of 'Int64Index'"
     ]
    }
   ],
   "source": [
    "# Visualizado os dados agrupados por ano\n",
    "df_ar.set_index('Date')\n",
    "grupos = df_ar.groupby(pd.Grouper(freq='Y'))\n",
    "df_anos = pd.DataFrame()\n",
    "\n",
    "for nome, grupo in grupos:\n",
    "    df_anos[nome.year] = grupo.values.squeeze()\n",
    "df_anos.boxplot(figsize=(12,8))\n",
    "\n",
    "plt.title('Qtd Passageiros agrupados por ano')\n",
    "plt.show()"
   ]
  },
  {
   "cell_type": "code",
   "execution_count": null,
   "metadata": {},
   "outputs": [],
   "source": []
  },
  {
   "cell_type": "code",
   "execution_count": null,
   "metadata": {},
   "outputs": [],
   "source": []
  },
  {
   "cell_type": "code",
   "execution_count": null,
   "metadata": {},
   "outputs": [],
   "source": [
    "# Distribuição dos atributos dos dataset\n",
    "df_ar.hist(figsize=(8,6))\n",
    "plt.tight_layout()\n",
    "plt.show()"
   ]
  },
  {
   "cell_type": "markdown",
   "metadata": {},
   "source": [
    "### Verificando a correlação dos Dados"
   ]
  },
  {
   "cell_type": "code",
   "execution_count": null,
   "metadata": {},
   "outputs": [],
   "source": [
    "# Plota o gráfico de correlação dos dados.\n",
    "plt.figure(figsize=(12,10))\n",
    "ax1 = sns.heatmap(df_ar.corr(),linewidths=0.1,vmax=1.0, square=True, annot=True, fmt='.2f', annot_kws={\"size\": 9})\n",
    "plt.title('Correlação dos dados\\n')\n",
    "plt.show()"
   ]
  },
  {
   "cell_type": "markdown",
   "metadata": {},
   "source": [
    "# Preparando os dados para criação do Modelo de Previsão"
   ]
  },
  {
   "cell_type": "code",
   "execution_count": null,
   "metadata": {},
   "outputs": [],
   "source": [
    "# Dividindo os atributos do dataframe \n",
    "\n",
    "# Previsores\n",
    "X = df_car.iloc[:, 0:6].values\n",
    "\n",
    "# Target\n",
    "y = df_car.iloc[:,6].values.astype('str')"
   ]
  },
  {
   "cell_type": "code",
   "execution_count": null,
   "metadata": {},
   "outputs": [],
   "source": [
    "print('Shape dos dados de X e y')\n",
    "print(X.shape)\n",
    "print(y.shape)"
   ]
  },
  {
   "cell_type": "code",
   "execution_count": null,
   "metadata": {},
   "outputs": [],
   "source": [
    "# Transforma os valores categóricos em valores inteiros\n",
    "from sklearn.preprocessing import LabelEncoder\n",
    "x_label_encoder = LabelEncoder()\n",
    "y_label_encoder  = LabelEncoder()\n",
    "\n",
    "# Valores de X (previsores). Altera o Shape dos dados de X.\n",
    "X_le = x_label_encoder.fit_transform(X.ravel())\n",
    "\n",
    "# Valores de Y (alvo)\n",
    "y_le = y_label_encoder.fit_transform(y)"
   ]
  },
  {
   "cell_type": "code",
   "execution_count": null,
   "metadata": {},
   "outputs": [],
   "source": [
    "y_le.shape"
   ]
  },
  {
   "cell_type": "code",
   "execution_count": null,
   "metadata": {},
   "outputs": [],
   "source": [
    "X_le.shape"
   ]
  },
  {
   "cell_type": "code",
   "execution_count": null,
   "metadata": {},
   "outputs": [],
   "source": [
    "# Alterando o Shape do array pra ficar igual ao original, após a condificação.\n",
    "X_le = X_le.reshape(X.shape)\n",
    "X_le.shape"
   ]
  },
  {
   "cell_type": "code",
   "execution_count": null,
   "metadata": {},
   "outputs": [],
   "source": [
    "# Gerando vetores binários para cada valor inteiro\n",
    "from sklearn.preprocessing import OneHotEncoder\n",
    "\n",
    "x_oneHot = OneHotEncoder(categories='auto')"
   ]
  },
  {
   "cell_type": "code",
   "execution_count": null,
   "metadata": {},
   "outputs": [],
   "source": [
    "# Codificando os valores de X em vetores binários\n",
    "X_oh = x_oneHot.fit_transform(X_le.reshape(X.shape)).toarray()\n",
    "X_oh"
   ]
  },
  {
   "cell_type": "code",
   "execution_count": null,
   "metadata": {},
   "outputs": [],
   "source": [
    "# Fazendo a Padronização dos dados\n",
    "from sklearn.preprocessing import StandardScaler\n",
    "\n",
    "#Padroniza os dados de X\n",
    "scale_x = StandardScaler()\n",
    "X_p = scale_x.fit_transform(X_oh.astype(float))"
   ]
  },
  {
   "cell_type": "code",
   "execution_count": null,
   "metadata": {},
   "outputs": [],
   "source": [
    "X_p.shape"
   ]
  },
  {
   "cell_type": "code",
   "execution_count": null,
   "metadata": {},
   "outputs": [],
   "source": [
    "X_p"
   ]
  },
  {
   "cell_type": "markdown",
   "metadata": {},
   "source": [
    "# Testando Alguns Modelos de Machine Learning"
   ]
  },
  {
   "cell_type": "code",
   "execution_count": null,
   "metadata": {},
   "outputs": [],
   "source": [
    "# Importando as bibliotecas dos modelos\n",
    "from sklearn import model_selection\n",
    "from sklearn.ensemble import AdaBoostClassifier\n",
    "from sklearn.ensemble import GradientBoostingClassifier\n",
    "from sklearn.ensemble import RandomForestClassifier\n",
    "from sklearn.ensemble import ExtraTreesClassifier\n",
    "from sklearn.tree import DecisionTreeClassifier\n",
    "from sklearn.neighbors import KNeighborsClassifier\n",
    "from sklearn.discriminant_analysis import LinearDiscriminantAnalysis\n",
    "from sklearn.naive_bayes import GaussianNB\n",
    "from sklearn.linear_model import LogisticRegression\n",
    "from sklearn.svm import SVC\n",
    "import xgboost"
   ]
  },
  {
   "cell_type": "code",
   "execution_count": null,
   "metadata": {},
   "outputs": [],
   "source": [
    "# Defindo os parâmetos do FOLD\n",
    "qtd_instancias = len(X_p)\n",
    "qtd_folds = 23\n",
    "seed = 7\n",
    "\n",
    "# Criando a lista de modelos para avaliação.\n",
    "modelos = []\n",
    "modelos.append(('AdaBoostClassifier', AdaBoostClassifier()))\n",
    "modelos.append(('GradientBoostingClassifier', GradientBoostingClassifier()))\n",
    "modelos.append(('RandomForestClassifier', RandomForestClassifier(n_estimators=10)))\n",
    "modelos.append(('ExtraTreesClassifier', ExtraTreesClassifier(n_estimators=10)))\n",
    "modelos.append(('DecisionTreeClassifier', DecisionTreeClassifier()))\n",
    "modelos.append(('KNeighborsClassifier', KNeighborsClassifier()))\n",
    "modelos.append(('GaussianNB', GaussianNB()))\n",
    "modelos.append(('LogisticRegression', LogisticRegression(solver='lbfgs', multi_class='auto', max_iter=10000)))\n",
    "modelos.append(('SVC', SVC()))\n",
    "modelos.append(('xgboost', xgboost.XGBClassifier()))"
   ]
  },
  {
   "cell_type": "code",
   "execution_count": null,
   "metadata": {},
   "outputs": [],
   "source": []
  },
  {
   "cell_type": "code",
   "execution_count": null,
   "metadata": {},
   "outputs": [],
   "source": [
    "# Definindo as listas para análise dos resultados.\n",
    "resultados = []\n",
    "nomes_modelos = []\n",
    "tempo_treinamento_modelos = []\n",
    "\n",
    "# Treina os Modelos\n",
    "for nome_modelo, modelo in modelos:\n",
    "    kfold = model_selection.KFold(n_splits=qtd_folds, random_state=seed)\n",
    "    #print(nome_modelo)\n",
    "    #Define o tempo de inicio do Treinamento\n",
    "    inicio = datetime.now()\n",
    "\n",
    "    resultados_cros_val = model_selection.cross_val_score(modelo, X_p, y_le.ravel(), cv=kfold, scoring='accuracy')\n",
    "    \n",
    "    #Define o tempo final do Treinamento\n",
    "    fim = datetime.now()   \n",
    "    tempo_modelo = (fim - inicio).total_seconds()\n",
    "    tempo_treinamento_modelos.append( tempo_modelo)\n",
    "    \n",
    "    resultados.append(resultados_cros_val)   \n",
    "    nomes_modelos.append(nome_modelo)        \n",
    "    \n",
    "    print(\"\\n%s: Acurácia: %.4f (Desvio Padrão: %.4f)\"  % (nome_modelo, resultados_cros_val.mean(), resultados_cros_val.std()) )\n",
    "    print('Tempo de Treinamento: %s segundos' % tempo_modelo )    "
   ]
  },
  {
   "cell_type": "code",
   "execution_count": null,
   "metadata": {},
   "outputs": [],
   "source": []
  },
  {
   "cell_type": "code",
   "execution_count": null,
   "metadata": {},
   "outputs": [],
   "source": [
    "#Plota um gráfico de Comparação dos Algoritmos de Classificação\n",
    "\n",
    "# Prepara os dados do Plot\n",
    "resul_AdaBoostClassifier = resultados[0]\n",
    "resul_GradientBoostingClassifier = resultados[1]\n",
    "resul_RandomForestClassifier = resultados[2]\n",
    "resul_ExtraTreesClassifier = resultados[3]\n",
    "resul_DecisionTreeClassifier = resultados[4]\n",
    "resul_KNeighborsClassifier = resultados[5]\n",
    "resul_GaussianNB = resultados[6]\n",
    "resul_LogisticRegression = resultados[7]\n",
    "#resul_LogisticRegressionCV = resultados[8]\n",
    "resul_SVC = resultados[8]\n",
    "resul_xgboost = resultados[9]\n",
    "\n",
    "# Configura o Plot.\n",
    "trace0= go.Box(y=resul_AdaBoostClassifier , name = 'AdaBoostClassifier ')\n",
    "trace1= go.Box(y=resul_GradientBoostingClassifier , name = 'GradientBoostingClassifier ')\n",
    "trace2= go.Box(y=resul_RandomForestClassifier , name = 'RandomForestClassifier ')\n",
    "trace3= go.Box(y=resul_ExtraTreesClassifier , name = 'ExtraTreesClassifier ')\n",
    "trace4= go.Box(y=resul_DecisionTreeClassifier , name = 'DecisionTreeClassifier ')\n",
    "trace5= go.Box(y=resul_KNeighborsClassifier , name = 'KNeighborsClassifier ')\n",
    "trace6= go.Box(y=resul_GaussianNB , name = 'GaussianNB ')\n",
    "trace7= go.Box(y=resul_LogisticRegression , name = 'LogisticRegression ')\n",
    "trace8= go.Box(y=resul_SVC , name = 'SVC ')\n",
    "trace9= go.Box(y=resul_xgboost , name = 'xgboost', )\n",
    "\n",
    "data = [trace0,trace1,trace2,trace3,trace4,trace5,trace6,trace7,trace8,trace9]\n",
    "\n",
    "layout = go.Layout(yaxis=dict(title='acurácia') ,title='Comparação dos Algoritmos de Classificação', showlegend=False)\n",
    "fig = go.Figure(data=data, layout=layout )\n",
    "py.iplot(fig )"
   ]
  },
  {
   "cell_type": "code",
   "execution_count": null,
   "metadata": {},
   "outputs": [],
   "source": []
  },
  {
   "cell_type": "code",
   "execution_count": null,
   "metadata": {},
   "outputs": [],
   "source": [
    "#Plota um gráfico de Comparação dos Tempo de treinamentodos Algoritmos de Classificação\n",
    "cores = ['rgb(31, 119, 180)',\n",
    " 'rgb(255, 127, 14)',\n",
    " 'rgb(44, 160, 44)',\n",
    " 'rgb(214, 39, 40)',\n",
    " 'rgb(148, 103, 189)',\n",
    " 'rgb(140, 86, 75)',\n",
    " 'rgb(227, 119, 194)',\n",
    " 'rgb(127, 127, 127)',\n",
    " 'rgb(188, 189, 34)',\n",
    " 'rgb(23, 190, 207)']\n",
    "\n",
    "trace0= go.Bar(y=tempo_treinamento_modelos, x=nomes_modelos, textposition = 'auto', text=tempo_treinamento_modelos,  marker=dict(color=cores),opacity=0.7  )\n",
    "data=[trace0]\n",
    "\n",
    "layout = go.Layout(yaxis=dict(title='segundos') ,title='Tempo para treinamento dos Algoritmos de Classificação')\n",
    "fig = go.Figure(data=data, layout=layout )\n",
    "py.iplot(fig )\n"
   ]
  },
  {
   "cell_type": "markdown",
   "metadata": {},
   "source": [
    "# Escolhendo um Modelo de Previsão"
   ]
  },
  {
   "cell_type": "code",
   "execution_count": null,
   "metadata": {},
   "outputs": [],
   "source": [
    "# O algoritmo de classificação que obteve o melhor resultado, apesar do maior tempo para treinamento, foi o GradientBoostingClassifier. Vamos selecionar ele.\n",
    "# Criando o Modelo\n",
    "classificador = GradientBoostingClassifier(n_estimators=200)"
   ]
  },
  {
   "cell_type": "code",
   "execution_count": null,
   "metadata": {},
   "outputs": [],
   "source": [
    "# Separando os dados de Treinamento e Teste\n",
    "from sklearn.model_selection import train_test_split\n",
    "\n",
    "X_treinamento, X_teste, y_treinamento, y_teste = train_test_split(X_p, y_le, test_size = 0.3)"
   ]
  },
  {
   "cell_type": "code",
   "execution_count": null,
   "metadata": {},
   "outputs": [],
   "source": [
    "print('Shape dos dados de Treinamento')\n",
    "print(X_treinamento.shape)\n",
    "print(y_treinamento.shape)"
   ]
  },
  {
   "cell_type": "code",
   "execution_count": null,
   "metadata": {},
   "outputs": [],
   "source": [
    "print('Shape dos dados de Teste')\n",
    "print(X_teste.shape)\n",
    "print(y_teste.shape)"
   ]
  },
  {
   "cell_type": "code",
   "execution_count": null,
   "metadata": {},
   "outputs": [],
   "source": [
    "# Treinando o modelo selecionado\n",
    "classificador.fit(X_treinamento, y_treinamento);"
   ]
  },
  {
   "cell_type": "code",
   "execution_count": null,
   "metadata": {},
   "outputs": [],
   "source": [
    "# Realiza a previsão com os dados de Teste\n",
    "y_previsto = classificador.predict(X_teste)"
   ]
  },
  {
   "cell_type": "code",
   "execution_count": null,
   "metadata": {},
   "outputs": [],
   "source": [
    "# Identificando o nome da classe de acordo com a codificação\n",
    "#acc = 0  #good = 1 #unacc = 2 #vgood = 3\n",
    "nome_classe = ['acc', 'good', 'unacc', 'vgood']"
   ]
  },
  {
   "cell_type": "code",
   "execution_count": null,
   "metadata": {},
   "outputs": [],
   "source": [
    "# Relatório de Classificação\n",
    "#precision -  daqueles que classifiquei como corretos, quantos efetivamente estavam corretos? \n",
    "#recall    -  quando realmente é da classe XPTO, o quão frequente você classifica como XPTO?\n",
    "#f1-score  -  balanço entre a precisão e o recall. Combina precisão e recall em um número único que indique a qualidade geral do seu modelo (quanto maior melhor o modelo).\n",
    "#support   -  número de ocorrência de cada classe.\n",
    "\n",
    "from sklearn.metrics import classification_report\n",
    "relatorio_classificacao = classification_report(y_teste, y_previsto, target_names=nome_classe ,digits=4)\n",
    "\n",
    "# Imprimindo o relatório\n",
    "print('\\tRelatório de Classificação do modelo')\n",
    "print(relatorio_classificacao)"
   ]
  },
  {
   "cell_type": "code",
   "execution_count": null,
   "metadata": {},
   "outputs": [],
   "source": [
    "# Visualizar a Matriz de confusão (confusion matrix)\n",
    "from sklearn.metrics import confusion_matrix\n",
    "cm = confusion_matrix(y_teste, y_previsto) \n",
    "\n",
    "df_cm = pd.DataFrame(cm, nome_classe,  nome_classe)\n",
    "\n",
    "print('Obs.: Nas linhas temos as Classes reais e nas colunas as Classes previstas.\\n')\n",
    "print('\\tMatriz de Confusão')\n",
    "df_cm"
   ]
  },
  {
   "cell_type": "code",
   "execution_count": null,
   "metadata": {},
   "outputs": [],
   "source": []
  },
  {
   "cell_type": "markdown",
   "metadata": {},
   "source": [
    "# Exibindo os dados de Teste após a Previsão"
   ]
  },
  {
   "cell_type": "code",
   "execution_count": null,
   "metadata": {},
   "outputs": [],
   "source": [
    "# Reverte a alteração da escala feita anteriormente\n",
    "X_teste_scale = scale_x.inverse_transform(X_teste)\n",
    "X_teste_scale.shape"
   ]
  },
  {
   "cell_type": "code",
   "execution_count": null,
   "metadata": {},
   "outputs": [],
   "source": [
    "# Reverte a alteração do onehot feita anteriormente\n",
    "X_teste_oh = x_oneHot.inverse_transform(X_teste_scale)\n",
    "X_teste_oh.shape"
   ]
  },
  {
   "cell_type": "code",
   "execution_count": null,
   "metadata": {},
   "outputs": [],
   "source": [
    "# Reverte a transformação para os valores originais feitas pelo Label Encoder feita anteriormente\n",
    "X_teste_le = x_label_encoder.inverse_transform(X_teste_oh.ravel())\n",
    "X_teste_le.shape"
   ]
  },
  {
   "cell_type": "code",
   "execution_count": null,
   "metadata": {},
   "outputs": [],
   "source": [
    "X_teste_le = X_teste_le.reshape(X_teste_oh.shape)\n",
    "X_teste_le.shape"
   ]
  },
  {
   "cell_type": "code",
   "execution_count": null,
   "metadata": {},
   "outputs": [],
   "source": [
    "df_previsores = pd.DataFrame(X_teste_le, columns=['BUYING', 'MAINT', 'DOORS', 'PERSONS' , 'LUG_BOOT', 'SAFETY'])\n",
    "#df_previsores.head()"
   ]
  },
  {
   "cell_type": "code",
   "execution_count": null,
   "metadata": {},
   "outputs": [],
   "source": [
    "# Reverte a transformação para os valores originais feitas pelo Label Encoder feita anteriormente\n",
    "y_previsto_it = y_label_encoder.inverse_transform(y_previsto.ravel())"
   ]
  },
  {
   "cell_type": "code",
   "execution_count": null,
   "metadata": {},
   "outputs": [],
   "source": [
    "# Reverte a transformação para os valores originais feitas pelo Label Encoder feita anteriormente\n",
    "y_teste_it = y_label_encoder.inverse_transform(y_teste.ravel())"
   ]
  },
  {
   "cell_type": "code",
   "execution_count": null,
   "metadata": {},
   "outputs": [],
   "source": [
    "# Dataframe com a classe Real\n",
    "df_prev = pd.DataFrame(y_previsto_it, columns=['CLASSE_PREVISTA'])\n",
    "\n",
    "# Dataframe com a classe Prevista\n",
    "df_real = pd.DataFrame(y_teste_it, columns=['CLASSE_REAL'])\n",
    "\n",
    "# Juntando os dois dataframes\n",
    "df_target = pd.merge(df_real, df_prev, right_index=True, left_index=True)\n",
    "df_target['CLASSE_PREVISTA_CORRETAMENTE'] = df_target.CLASSE_PREVISTA == df_target.CLASSE_REAL\n"
   ]
  },
  {
   "cell_type": "code",
   "execution_count": null,
   "metadata": {},
   "outputs": [],
   "source": [
    "# Agora juntando os dataframes de previsores e target\n",
    "df_merge = pd.merge(df_previsores, df_target, right_index=True, left_index=True)"
   ]
  },
  {
   "cell_type": "code",
   "execution_count": null,
   "metadata": {},
   "outputs": [],
   "source": [
    "# Exibindo somente os registros onde houve erro na previsão da classe.\n",
    "df_merge[df_merge.CLASSE_PREVISTA_CORRETAMENTE==False]"
   ]
  },
  {
   "cell_type": "code",
   "execution_count": null,
   "metadata": {},
   "outputs": [],
   "source": [
    "# Exibindo a quantidade.\n",
    "df_merge.groupby(['CLASSE_PREVISTA_CORRETAMENTE']).count()"
   ]
  },
  {
   "cell_type": "code",
   "execution_count": null,
   "metadata": {},
   "outputs": [],
   "source": []
  }
 ],
 "metadata": {
  "kernelspec": {
   "display_name": "Python 3",
   "language": "python",
   "name": "python3"
  },
  "language_info": {
   "codemirror_mode": {
    "name": "ipython",
    "version": 3
   },
   "file_extension": ".py",
   "mimetype": "text/x-python",
   "name": "python",
   "nbconvert_exporter": "python",
   "pygments_lexer": "ipython3",
   "version": "3.7.3"
  }
 },
 "nbformat": 4,
 "nbformat_minor": 4
}
