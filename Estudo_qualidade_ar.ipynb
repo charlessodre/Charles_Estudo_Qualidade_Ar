{
 "cells": [
  {
   "cell_type": "markdown",
   "metadata": {},
   "source": [
    "# Introdução\n",
    "\n",
    "<h3> ** O principal objetivo deste notebook é praticar o uso do python para análise de dados e uso de alguns modelos de classificação do scikit-learn. ** </h3>\n",
    "\n",
    "\n",
    "- O dataset que vamos utilizar para o nosso estudo será o dataset \"qualidade_do_ar.csv\".\n",
    "    O conjunto de dados contém 9358 resultados médios de 5 sensores químicos de um dispositivo multisensor (PTXX.SX). O dispositivo estava localizado a nível da rua, dentro de uma cidade significativamente poluída. Os dados foram registrados de março de 2004 a fevereiro de 2005 (um ano). Valores ausentes são marcados com o valor -200. A medida de outros sensores também está disponível e algumas podem ser redundantes. A variável chave a ser analisada é PT08.S1 (CO), concentração de CO na atmosfera.\n",
    "\n",
    "\n",
    "\n",
    "<h4> Abaixo estão as descrições dos atributos do Dataset: </h4>\n",
    "    \n",
    "1.\tDate (DD/MM/YYYY) \n",
    "2.\tTime (HH.MM.SS) \n",
    "3.\tPT08.S1 (CO) – Variável de predição\n",
    "4.\tNon Metanic HydroCarbons Concentration (mg/m^3)\n",
    "5.\t4 Benzene Concentration (mg/m^3) \n",
    "6.\tPT08.S2 (NMHC) \n",
    "7.\tNOx Concentration (ppb) \n",
    "8.\tPT08.S3 (NOx) \n",
    "9.\t8 NO2 Concentration (mg/m^3) \n",
    "10.\tPT08.S4 (NO2s) \n",
    "11.\tPT08.S5 (O3) \n",
    "12.\tTemperature (C) \n",
    "13.\tRelative Humidity (%) \n",
    "14.\tAH Absolute Humidity \n",
    "    "
   ]
  },
  {
   "cell_type": "markdown",
   "metadata": {},
   "source": [
    "# Iniciando a Importação e Análise Exploratória de Dados."
   ]
  },
  {
   "cell_type": "code",
   "execution_count": 1,
   "metadata": {},
   "outputs": [],
   "source": [
    "# Carregando as bibliotecas iniciais\n",
    "import pandas as pd \n",
    "import numpy as np\n",
    "import matplotlib.pyplot as plt\n",
    "import seaborn as sns "
   ]
  },
  {
   "cell_type": "code",
   "execution_count": 2,
   "metadata": {},
   "outputs": [
    {
     "data": {
      "text/plain": [
       "(9357, 14)"
      ]
     },
     "execution_count": 2,
     "metadata": {},
     "output_type": "execute_result"
    }
   ],
   "source": [
    "# Importando o DataSet e definindo o separador decimal para ',' e substiuíndo os valores \"-200\" por valores \"N/A\".\n",
    "df_ar = pd.read_csv('qualidade_do_ar.csv', sep=';',decimal=',' ,  keep_default_na=False, na_values = -200 )\n",
    "\n",
    "# Visualizando as dimensões do dataset original\n",
    "df_ar.shape"
   ]
  },
  {
   "cell_type": "code",
   "execution_count": 3,
   "metadata": {},
   "outputs": [
    {
     "data": {
      "text/html": [
       "<div>\n",
       "<style scoped>\n",
       "    .dataframe tbody tr th:only-of-type {\n",
       "        vertical-align: middle;\n",
       "    }\n",
       "\n",
       "    .dataframe tbody tr th {\n",
       "        vertical-align: top;\n",
       "    }\n",
       "\n",
       "    .dataframe thead th {\n",
       "        text-align: right;\n",
       "    }\n",
       "</style>\n",
       "<table border=\"1\" class=\"dataframe\">\n",
       "  <thead>\n",
       "    <tr style=\"text-align: right;\">\n",
       "      <th></th>\n",
       "      <th>Date</th>\n",
       "      <th>Time</th>\n",
       "      <th>PT08.S1(CO)</th>\n",
       "      <th>NMHC(GT)</th>\n",
       "      <th>C6H6(GT)</th>\n",
       "      <th>PT08.S2(NMHC)</th>\n",
       "      <th>NOx(GT)</th>\n",
       "      <th>PT08.S3(NOx)</th>\n",
       "      <th>NO2(GT)</th>\n",
       "      <th>PT08.S4(NO2)</th>\n",
       "      <th>PT08.S5(O3)</th>\n",
       "      <th>T</th>\n",
       "      <th>RH</th>\n",
       "      <th>AH</th>\n",
       "    </tr>\n",
       "  </thead>\n",
       "  <tbody>\n",
       "    <tr>\n",
       "      <th>0</th>\n",
       "      <td>10/03/2004</td>\n",
       "      <td>18.00.00</td>\n",
       "      <td>1360.0</td>\n",
       "      <td>150.0</td>\n",
       "      <td>11.9</td>\n",
       "      <td>1046.0</td>\n",
       "      <td>166.0</td>\n",
       "      <td>1056.0</td>\n",
       "      <td>113.0</td>\n",
       "      <td>1692.0</td>\n",
       "      <td>1268.0</td>\n",
       "      <td>13.6</td>\n",
       "      <td>48.9</td>\n",
       "      <td>0.7578</td>\n",
       "    </tr>\n",
       "    <tr>\n",
       "      <th>1</th>\n",
       "      <td>10/03/2004</td>\n",
       "      <td>19.00.00</td>\n",
       "      <td>1292.0</td>\n",
       "      <td>112.0</td>\n",
       "      <td>9.4</td>\n",
       "      <td>955.0</td>\n",
       "      <td>103.0</td>\n",
       "      <td>1174.0</td>\n",
       "      <td>92.0</td>\n",
       "      <td>1559.0</td>\n",
       "      <td>972.0</td>\n",
       "      <td>13.3</td>\n",
       "      <td>47.7</td>\n",
       "      <td>0.7255</td>\n",
       "    </tr>\n",
       "    <tr>\n",
       "      <th>2</th>\n",
       "      <td>10/03/2004</td>\n",
       "      <td>20.00.00</td>\n",
       "      <td>1402.0</td>\n",
       "      <td>88.0</td>\n",
       "      <td>9.0</td>\n",
       "      <td>939.0</td>\n",
       "      <td>131.0</td>\n",
       "      <td>1140.0</td>\n",
       "      <td>114.0</td>\n",
       "      <td>1555.0</td>\n",
       "      <td>1074.0</td>\n",
       "      <td>11.9</td>\n",
       "      <td>54.0</td>\n",
       "      <td>0.7502</td>\n",
       "    </tr>\n",
       "    <tr>\n",
       "      <th>3</th>\n",
       "      <td>10/03/2004</td>\n",
       "      <td>21.00.00</td>\n",
       "      <td>1376.0</td>\n",
       "      <td>80.0</td>\n",
       "      <td>9.2</td>\n",
       "      <td>948.0</td>\n",
       "      <td>172.0</td>\n",
       "      <td>1092.0</td>\n",
       "      <td>122.0</td>\n",
       "      <td>1584.0</td>\n",
       "      <td>1203.0</td>\n",
       "      <td>11.0</td>\n",
       "      <td>60.0</td>\n",
       "      <td>0.7867</td>\n",
       "    </tr>\n",
       "    <tr>\n",
       "      <th>4</th>\n",
       "      <td>10/03/2004</td>\n",
       "      <td>22.00.00</td>\n",
       "      <td>1272.0</td>\n",
       "      <td>51.0</td>\n",
       "      <td>6.5</td>\n",
       "      <td>836.0</td>\n",
       "      <td>131.0</td>\n",
       "      <td>1205.0</td>\n",
       "      <td>116.0</td>\n",
       "      <td>1490.0</td>\n",
       "      <td>1110.0</td>\n",
       "      <td>11.2</td>\n",
       "      <td>59.6</td>\n",
       "      <td>0.7888</td>\n",
       "    </tr>\n",
       "    <tr>\n",
       "      <th>5</th>\n",
       "      <td>10/03/2004</td>\n",
       "      <td>23.00.00</td>\n",
       "      <td>1197.0</td>\n",
       "      <td>38.0</td>\n",
       "      <td>4.7</td>\n",
       "      <td>750.0</td>\n",
       "      <td>89.0</td>\n",
       "      <td>1337.0</td>\n",
       "      <td>96.0</td>\n",
       "      <td>1393.0</td>\n",
       "      <td>949.0</td>\n",
       "      <td>11.2</td>\n",
       "      <td>59.2</td>\n",
       "      <td>0.7848</td>\n",
       "    </tr>\n",
       "    <tr>\n",
       "      <th>6</th>\n",
       "      <td>11/03/2004</td>\n",
       "      <td>00.00.00</td>\n",
       "      <td>1185.0</td>\n",
       "      <td>31.0</td>\n",
       "      <td>3.6</td>\n",
       "      <td>690.0</td>\n",
       "      <td>62.0</td>\n",
       "      <td>1462.0</td>\n",
       "      <td>77.0</td>\n",
       "      <td>1333.0</td>\n",
       "      <td>733.0</td>\n",
       "      <td>11.3</td>\n",
       "      <td>56.8</td>\n",
       "      <td>0.7603</td>\n",
       "    </tr>\n",
       "    <tr>\n",
       "      <th>7</th>\n",
       "      <td>11/03/2004</td>\n",
       "      <td>01.00.00</td>\n",
       "      <td>1136.0</td>\n",
       "      <td>31.0</td>\n",
       "      <td>3.3</td>\n",
       "      <td>672.0</td>\n",
       "      <td>62.0</td>\n",
       "      <td>1453.0</td>\n",
       "      <td>76.0</td>\n",
       "      <td>1333.0</td>\n",
       "      <td>730.0</td>\n",
       "      <td>10.7</td>\n",
       "      <td>60.0</td>\n",
       "      <td>0.7702</td>\n",
       "    </tr>\n",
       "    <tr>\n",
       "      <th>8</th>\n",
       "      <td>11/03/2004</td>\n",
       "      <td>02.00.00</td>\n",
       "      <td>1094.0</td>\n",
       "      <td>24.0</td>\n",
       "      <td>2.3</td>\n",
       "      <td>609.0</td>\n",
       "      <td>45.0</td>\n",
       "      <td>1579.0</td>\n",
       "      <td>60.0</td>\n",
       "      <td>1276.0</td>\n",
       "      <td>620.0</td>\n",
       "      <td>10.7</td>\n",
       "      <td>59.7</td>\n",
       "      <td>0.7648</td>\n",
       "    </tr>\n",
       "    <tr>\n",
       "      <th>9</th>\n",
       "      <td>11/03/2004</td>\n",
       "      <td>03.00.00</td>\n",
       "      <td>1010.0</td>\n",
       "      <td>19.0</td>\n",
       "      <td>1.7</td>\n",
       "      <td>561.0</td>\n",
       "      <td>NaN</td>\n",
       "      <td>1705.0</td>\n",
       "      <td>NaN</td>\n",
       "      <td>1235.0</td>\n",
       "      <td>501.0</td>\n",
       "      <td>10.3</td>\n",
       "      <td>60.2</td>\n",
       "      <td>0.7517</td>\n",
       "    </tr>\n",
       "  </tbody>\n",
       "</table>\n",
       "</div>"
      ],
      "text/plain": [
       "         Date      Time  PT08.S1(CO)  NMHC(GT)  C6H6(GT)  PT08.S2(NMHC)  \\\n",
       "0  10/03/2004  18.00.00       1360.0     150.0      11.9         1046.0   \n",
       "1  10/03/2004  19.00.00       1292.0     112.0       9.4          955.0   \n",
       "2  10/03/2004  20.00.00       1402.0      88.0       9.0          939.0   \n",
       "3  10/03/2004  21.00.00       1376.0      80.0       9.2          948.0   \n",
       "4  10/03/2004  22.00.00       1272.0      51.0       6.5          836.0   \n",
       "5  10/03/2004  23.00.00       1197.0      38.0       4.7          750.0   \n",
       "6  11/03/2004  00.00.00       1185.0      31.0       3.6          690.0   \n",
       "7  11/03/2004  01.00.00       1136.0      31.0       3.3          672.0   \n",
       "8  11/03/2004  02.00.00       1094.0      24.0       2.3          609.0   \n",
       "9  11/03/2004  03.00.00       1010.0      19.0       1.7          561.0   \n",
       "\n",
       "   NOx(GT)  PT08.S3(NOx)  NO2(GT)  PT08.S4(NO2)  PT08.S5(O3)     T    RH  \\\n",
       "0    166.0        1056.0    113.0        1692.0       1268.0  13.6  48.9   \n",
       "1    103.0        1174.0     92.0        1559.0        972.0  13.3  47.7   \n",
       "2    131.0        1140.0    114.0        1555.0       1074.0  11.9  54.0   \n",
       "3    172.0        1092.0    122.0        1584.0       1203.0  11.0  60.0   \n",
       "4    131.0        1205.0    116.0        1490.0       1110.0  11.2  59.6   \n",
       "5     89.0        1337.0     96.0        1393.0        949.0  11.2  59.2   \n",
       "6     62.0        1462.0     77.0        1333.0        733.0  11.3  56.8   \n",
       "7     62.0        1453.0     76.0        1333.0        730.0  10.7  60.0   \n",
       "8     45.0        1579.0     60.0        1276.0        620.0  10.7  59.7   \n",
       "9      NaN        1705.0      NaN        1235.0        501.0  10.3  60.2   \n",
       "\n",
       "       AH  \n",
       "0  0.7578  \n",
       "1  0.7255  \n",
       "2  0.7502  \n",
       "3  0.7867  \n",
       "4  0.7888  \n",
       "5  0.7848  \n",
       "6  0.7603  \n",
       "7  0.7702  \n",
       "8  0.7648  \n",
       "9  0.7517  "
      ]
     },
     "execution_count": 3,
     "metadata": {},
     "output_type": "execute_result"
    }
   ],
   "source": [
    "# Olhando as 10 primeiras linhas do dataset\n",
    "df_ar.head(10)"
   ]
  },
  {
   "cell_type": "code",
   "execution_count": 4,
   "metadata": {},
   "outputs": [
    {
     "name": "stdout",
     "output_type": "stream",
     "text": [
      "<class 'pandas.core.frame.DataFrame'>\n",
      "RangeIndex: 9357 entries, 0 to 9356\n",
      "Data columns (total 14 columns):\n",
      "Date             9357 non-null object\n",
      "Time             9357 non-null object\n",
      "PT08.S1(CO)      8991 non-null float64\n",
      "NMHC(GT)         914 non-null float64\n",
      "C6H6(GT)         8991 non-null float64\n",
      "PT08.S2(NMHC)    8991 non-null float64\n",
      "NOx(GT)          7718 non-null float64\n",
      "PT08.S3(NOx)     8991 non-null float64\n",
      "NO2(GT)          7715 non-null float64\n",
      "PT08.S4(NO2)     8991 non-null float64\n",
      "PT08.S5(O3)      8991 non-null float64\n",
      "T                8991 non-null float64\n",
      "RH               8991 non-null float64\n",
      "AH               8991 non-null float64\n",
      "dtypes: float64(12), object(2)\n",
      "memory usage: 1023.5+ KB\n"
     ]
    }
   ],
   "source": [
    "# Olhando os tipos e formato dos dados antes das conversões\n",
    "df_ar.info()"
   ]
  },
  {
   "cell_type": "code",
   "execution_count": 5,
   "metadata": {},
   "outputs": [
    {
     "data": {
      "text/plain": [
       "Date              391\n",
       "Time               24\n",
       "PT08.S1(CO)      1041\n",
       "NMHC(GT)          429\n",
       "C6H6(GT)          407\n",
       "PT08.S2(NMHC)    1245\n",
       "NOx(GT)           925\n",
       "PT08.S3(NOx)     1221\n",
       "NO2(GT)           283\n",
       "PT08.S4(NO2)     1603\n",
       "PT08.S5(O3)      1743\n",
       "T                 436\n",
       "RH                753\n",
       "AH               6683\n",
       "dtype: int64"
      ]
     },
     "execution_count": 5,
     "metadata": {},
     "output_type": "execute_result"
    }
   ],
   "source": [
    "# Verificando os valores únicos\n",
    "df_ar.nunique()"
   ]
  },
  {
   "cell_type": "code",
   "execution_count": 6,
   "metadata": {},
   "outputs": [
    {
     "data": {
      "image/png": "[encoded data removed]",
      "text/plain": [
       "<Figure size 1152x576 with 12 Axes>"
      ]
     },
     "metadata": {
      "needs_background": "light"
     },
     "output_type": "display_data"
    }
   ],
   "source": [
    "# Distribuição dos atributos do dataset\n",
    "df_ar.hist(figsize=(16,8))\n",
    "plt.tight_layout()\n",
    "plt.show()"
   ]
  },
  {
   "cell_type": "code",
   "execution_count": null,
   "metadata": {},
   "outputs": [],
   "source": []
  },
  {
   "cell_type": "markdown",
   "metadata": {},
   "source": [
    "## Verificando e Tratando os valores nulos e/ou N/A"
   ]
  },
  {
   "cell_type": "code",
   "execution_count": null,
   "metadata": {},
   "outputs": [],
   "source": []
  },
  {
   "cell_type": "code",
   "execution_count": 7,
   "metadata": {},
   "outputs": [
    {
     "name": "stdout",
     "output_type": "stream",
     "text": [
      "Valores Nulos\n",
      "\n",
      "Date                0\n",
      "Time                0\n",
      "PT08.S1(CO)       366\n",
      "NMHC(GT)         8443\n",
      "C6H6(GT)          366\n",
      "PT08.S2(NMHC)     366\n",
      "NOx(GT)          1639\n",
      "PT08.S3(NOx)      366\n",
      "NO2(GT)          1642\n",
      "PT08.S4(NO2)      366\n",
      "PT08.S5(O3)       366\n",
      "T                 366\n",
      "RH                366\n",
      "AH                366\n",
      "dtype: int64\n",
      "\n",
      "Valores N/A \n",
      "\n",
      "Date                0\n",
      "Time                0\n",
      "PT08.S1(CO)       366\n",
      "NMHC(GT)         8443\n",
      "C6H6(GT)          366\n",
      "PT08.S2(NMHC)     366\n",
      "NOx(GT)          1639\n",
      "PT08.S3(NOx)      366\n",
      "NO2(GT)          1642\n",
      "PT08.S4(NO2)      366\n",
      "PT08.S5(O3)       366\n",
      "T                 366\n",
      "RH                366\n",
      "AH                366\n",
      "dtype: int64\n"
     ]
    }
   ],
   "source": [
    "# Verificando valores nulos.\n",
    "print('Valores Nulos\\n')\n",
    "print(df_ar.isnull().sum())\n",
    "\n",
    "# Verificando valores N/A.\n",
    "print('\\nValores N/A \\n')\n",
    "print(df_ar.isna().sum())"
   ]
  },
  {
   "cell_type": "code",
   "execution_count": 32,
   "metadata": {},
   "outputs": [
    {
     "name": "stdout",
     "output_type": "stream",
     "text": [
      "\n",
      "Percentual de valores N/A por Atributo\n"
     ]
    },
    {
     "data": {
      "text/html": [
       "<div>\n",
       "<style scoped>\n",
       "    .dataframe tbody tr th:only-of-type {\n",
       "        vertical-align: middle;\n",
       "    }\n",
       "\n",
       "    .dataframe tbody tr th {\n",
       "        vertical-align: top;\n",
       "    }\n",
       "\n",
       "    .dataframe thead th {\n",
       "        text-align: right;\n",
       "    }\n",
       "</style>\n",
       "<table border=\"1\" class=\"dataframe\">\n",
       "  <thead>\n",
       "    <tr style=\"text-align: right;\">\n",
       "      <th></th>\n",
       "      <th>Total</th>\n",
       "      <th>Percentual</th>\n",
       "    </tr>\n",
       "  </thead>\n",
       "  <tbody>\n",
       "    <tr>\n",
       "      <th>NO2(GT)</th>\n",
       "      <td>261</td>\n",
       "      <td>2.902903</td>\n",
       "    </tr>\n",
       "    <tr>\n",
       "      <th>NOx(GT)</th>\n",
       "      <td>261</td>\n",
       "      <td>2.902903</td>\n",
       "    </tr>\n",
       "    <tr>\n",
       "      <th>AH</th>\n",
       "      <td>0</td>\n",
       "      <td>0.000000</td>\n",
       "    </tr>\n",
       "    <tr>\n",
       "      <th>PT08.S1(CO)</th>\n",
       "      <td>0</td>\n",
       "      <td>0.000000</td>\n",
       "    </tr>\n",
       "    <tr>\n",
       "      <th>Season</th>\n",
       "      <td>0</td>\n",
       "      <td>0.000000</td>\n",
       "    </tr>\n",
       "    <tr>\n",
       "      <th>Year</th>\n",
       "      <td>0</td>\n",
       "      <td>0.000000</td>\n",
       "    </tr>\n",
       "    <tr>\n",
       "      <th>Month</th>\n",
       "      <td>0</td>\n",
       "      <td>0.000000</td>\n",
       "    </tr>\n",
       "    <tr>\n",
       "      <th>Day</th>\n",
       "      <td>0</td>\n",
       "      <td>0.000000</td>\n",
       "    </tr>\n",
       "    <tr>\n",
       "      <th>WeekDayName</th>\n",
       "      <td>0</td>\n",
       "      <td>0.000000</td>\n",
       "    </tr>\n",
       "    <tr>\n",
       "      <th>Time</th>\n",
       "      <td>0</td>\n",
       "      <td>0.000000</td>\n",
       "    </tr>\n",
       "    <tr>\n",
       "      <th>C6H6(GT)</th>\n",
       "      <td>0</td>\n",
       "      <td>0.000000</td>\n",
       "    </tr>\n",
       "    <tr>\n",
       "      <th>RH</th>\n",
       "      <td>0</td>\n",
       "      <td>0.000000</td>\n",
       "    </tr>\n",
       "    <tr>\n",
       "      <th>PT08.S2(NMHC)</th>\n",
       "      <td>0</td>\n",
       "      <td>0.000000</td>\n",
       "    </tr>\n",
       "    <tr>\n",
       "      <th>PT08.S3(NOx)</th>\n",
       "      <td>0</td>\n",
       "      <td>0.000000</td>\n",
       "    </tr>\n",
       "    <tr>\n",
       "      <th>PT08.S4(NO2)</th>\n",
       "      <td>0</td>\n",
       "      <td>0.000000</td>\n",
       "    </tr>\n",
       "    <tr>\n",
       "      <th>PT08.S5(O3)</th>\n",
       "      <td>0</td>\n",
       "      <td>0.000000</td>\n",
       "    </tr>\n",
       "    <tr>\n",
       "      <th>T</th>\n",
       "      <td>0</td>\n",
       "      <td>0.000000</td>\n",
       "    </tr>\n",
       "    <tr>\n",
       "      <th>Date</th>\n",
       "      <td>0</td>\n",
       "      <td>0.000000</td>\n",
       "    </tr>\n",
       "  </tbody>\n",
       "</table>\n",
       "</div>"
      ],
      "text/plain": [
       "               Total  Percentual\n",
       "NO2(GT)          261    2.902903\n",
       "NOx(GT)          261    2.902903\n",
       "AH                 0    0.000000\n",
       "PT08.S1(CO)        0    0.000000\n",
       "Season             0    0.000000\n",
       "Year               0    0.000000\n",
       "Month              0    0.000000\n",
       "Day                0    0.000000\n",
       "WeekDayName        0    0.000000\n",
       "Time               0    0.000000\n",
       "C6H6(GT)           0    0.000000\n",
       "RH                 0    0.000000\n",
       "PT08.S2(NMHC)      0    0.000000\n",
       "PT08.S3(NOx)       0    0.000000\n",
       "PT08.S4(NO2)       0    0.000000\n",
       "PT08.S5(O3)        0    0.000000\n",
       "T                  0    0.000000\n",
       "Date               0    0.000000"
      ]
     },
     "execution_count": 32,
     "metadata": {},
     "output_type": "execute_result"
    }
   ],
   "source": [
    "# Exibindo o percentual de valores N/A por atributo\n",
    "total = df_ar.isnull().sum().sort_values(ascending=False)\n",
    "percentual = (df_ar.isna().sum()/df_ar.isna().count() *100).sort_values(ascending=False)\n",
    "df_valores_na = pd.concat([total, percentual], axis=1, keys=['Total', 'Percentual'])\n",
    "\n",
    "print('\\nPercentual de valores N/A por Atributo')\n",
    "df_valores_na.head(20)\n"
   ]
  },
  {
   "cell_type": "markdown",
   "metadata": {},
   "source": [
    "## Adicionar e Tratar colunas no dataframe\n",
    "- Vamos adicionar e tratar algumas colunas para nos ajudar na análise"
   ]
  },
  {
   "cell_type": "code",
   "execution_count": 9,
   "metadata": {},
   "outputs": [],
   "source": [
    "# Converte a coluna Date para o tipo datetime.\n",
    "df_ar['Date'] = pd.to_datetime(df_ar['Date'],  dayfirst=True)"
   ]
  },
  {
   "cell_type": "code",
   "execution_count": 10,
   "metadata": {},
   "outputs": [],
   "source": [
    "# Retira o '.' da coluna Time.\n",
    "df_ar['Time'] = df_ar.Time.apply(lambda x: x.split('.')[0])"
   ]
  },
  {
   "cell_type": "code",
   "execution_count": 11,
   "metadata": {},
   "outputs": [],
   "source": [
    "# Cria um lista com os dias da semana\n",
    "dia_semana = ['1-Domingo', '2-Segunda-feira', '3-Terça-feira', '4-Quarta-feira', '5-Quinta-Feira','6-Sexta-feira','7-Sábado']"
   ]
  },
  {
   "cell_type": "code",
   "execution_count": 12,
   "metadata": {
    "jupyter": {
     "source_hidden": true
    }
   },
   "outputs": [],
   "source": [
    "# Cria a função para obter a estação do ano\n",
    "#Função obtida em Brainly.com.br - https://brainly.com.br/tarefa/10942888#readmore\n",
    "def estacao_ano(dia, mes):\n",
    "    if mes in (1, 2):\n",
    "        return 'Verão'\n",
    "    elif mes == 3:\n",
    "        if dia < 21:\n",
    "            return 'Verão'\n",
    "        else:\n",
    "            return 'Outono'\n",
    "    elif mes in (4, 5):\n",
    "        return 'Outono'\n",
    "    elif mes == 6:\n",
    "        if dia < 21:\n",
    "            return 'Outono'\n",
    "        else:\n",
    "            return 'Inverno'\n",
    "    elif mes in (7, 8):\n",
    "        return 'Inverno'\n",
    "    elif mes == 9:\n",
    "        if dia < 21:\n",
    "            return 'Inverno'\n",
    "        else:\n",
    "            return 'Primavera'\n",
    "    elif mes in (10, 11):\n",
    "        return 'Primavera'\n",
    "    elif mes == 12:\n",
    "        if dia < 21:\n",
    "            return 'Primavera'\n",
    "        else:\n",
    "            return 'Verão'"
   ]
  },
  {
   "cell_type": "code",
   "execution_count": 13,
   "metadata": {},
   "outputs": [],
   "source": [
    "# Adiciona o dia da semana no dataframe\n",
    "df_ar['WeekDayName'] = df_ar.Date.apply(lambda x: dia_semana[int(x.strftime('%w'))])"
   ]
  },
  {
   "cell_type": "code",
   "execution_count": 14,
   "metadata": {},
   "outputs": [],
   "source": [
    "# Adiciona a estação do ano no dataframe\n",
    "df_ar['Season'] = df_ar.Date.apply(lambda x: estacao_ano(int(x.strftime('%d')), int(x.strftime('%m'))))"
   ]
  },
  {
   "cell_type": "code",
   "execution_count": 15,
   "metadata": {},
   "outputs": [],
   "source": [
    "# Adiciona o ano, o mês e o dia no dataframe\n",
    "df_ar['Year'] = df_ar.Date.dt.strftime('%y')\n",
    "df_ar['Month'] = df_ar.Date.dt.strftime('%m')\n",
    "df_ar['Day'] = df_ar.Date.dt.strftime('%d')"
   ]
  },
  {
   "cell_type": "code",
   "execution_count": 16,
   "metadata": {},
   "outputs": [],
   "source": [
    "#df_tratado[(df_tratado['Date'] > '2004-6-18') & (df_tratado['Date'] <= '2004-7-21')]"
   ]
  },
  {
   "cell_type": "code",
   "execution_count": 17,
   "metadata": {},
   "outputs": [],
   "source": [
    "# Altera a posição da coluna criada.\n",
    "df_ar = df_ar[['Date', 'Season' , 'Year','Month','Day','WeekDayName','Time','PT08.S1(CO)','NMHC(GT)','C6H6(GT)','PT08.S2(NMHC)','NOx(GT)', 'PT08.S3(NOx)','NO2(GT)','PT08.S4(NO2)','PT08.S5(O3)', 'T', 'RH', 'AH']]"
   ]
  },
  {
   "cell_type": "markdown",
   "metadata": {},
   "source": [
    "## Tratar Valores Nulos e N/A\n",
    "- Neste estudo vamos utilizar estratégias mais simples para o tratamento dos valores N/A, porém é importante saber que existem algumas técnicas mais avançadas, tais como: analisar correlações, criação de  um modelo preditivo para preenchimento dos valores N/A entre outras.\n",
    "\n"
   ]
  },
  {
   "cell_type": "code",
   "execution_count": 18,
   "metadata": {},
   "outputs": [],
   "source": [
    "# O atributo 'NMHC_GT' está com mais de 90% dos registros com valores N/A. \n",
    "# Vamos remover ele do nosso dataframe\n",
    "df_ar.drop('NMHC(GT)',axis=1,inplace=True)   "
   ]
  },
  {
   "cell_type": "code",
   "execution_count": 19,
   "metadata": {},
   "outputs": [
    {
     "data": {
      "text/plain": [
       "(8991, 18)"
      ]
     },
     "execution_count": 19,
     "metadata": {},
     "output_type": "execute_result"
    }
   ],
   "source": [
    "# Como o atributo \"PT08.S1(CO)\" será a variável que vamos tanter prever, para esse caso não vamos preencher os valores N/A. \n",
    "# Vamos remover as linhas em que ele aparece como N/A.\n",
    "df_ar.dropna(subset=['PT08.S1(CO)'], inplace=True);\n",
    "df_ar.shape"
   ]
  },
  {
   "cell_type": "code",
   "execution_count": 29,
   "metadata": {},
   "outputs": [
    {
     "data": {
      "text/plain": [
       "0    151.075472\n",
       "1    171.320755\n",
       "2    173.547170\n",
       "3    159.396226\n",
       "4    133.415094\n",
       "Name: NO2(GT), dtype: float64"
      ]
     },
     "execution_count": 29,
     "metadata": {},
     "output_type": "execute_result"
    }
   ],
   "source": [
    "df_ar.groupby(['Month','Time'])['NO2(GT)'].transform('mean').head()"
   ]
  },
  {
   "cell_type": "code",
   "execution_count": 30,
   "metadata": {},
   "outputs": [
    {
     "data": {
      "text/plain": [
       "0    153.0\n",
       "1    172.0\n",
       "2    175.0\n",
       "3    155.0\n",
       "4    127.0\n",
       "Name: NO2(GT), dtype: float64"
      ]
     },
     "execution_count": 30,
     "metadata": {},
     "output_type": "execute_result"
    }
   ],
   "source": [
    "df_ar.groupby(['Month','Time'])['NO2(GT)'].transform('median').head()"
   ]
  },
  {
   "cell_type": "code",
   "execution_count": 31,
   "metadata": {},
   "outputs": [],
   "source": [
    "# Vamos preencher os valores faltantes com a média dos valores no mesmo mês/hora.\n",
    "\n",
    "df_ar['NO2(GT)']=df_ar['NO2(GT)'].fillna(df_ar.groupby(['Month','Time'])['NO2(GT)'].transform('mean'))\n",
    "df_ar['NOx(GT)']=df_ar['NOx(GT)'].fillna(df_ar.groupby(['Month','Time'])['NOx(GT)'].transform('mean'))\n",
    "df_ar['PT08.S2(NMHC)']=df_ar['PT08.S2(NMHC)'].fillna(df_ar.groupby(['Month','Time'])['PT08.S2(NMHC)'].transform('mean'))\n",
    "\n",
    "df_ar['AH']=df_ar['AH'].fillna(df_ar.groupby(['Month','Time'])['AH'].transform('mean'))\n",
    "df_ar['PT08.S3(NOx)']=df_ar['PT08.S3(NOx)'].fillna(df_ar.groupby(['Month','Time'])['PT08.S3(NOx)'].transform('mean'))\n",
    "df_ar['RH']=df_ar['RH'].fillna(df_ar.groupby(['Month','Time'])['RH'].transform('mean'))\n",
    "df_ar['PT08.S2(NMHC)']=df_ar['PT08.S2(NMHC)'].fillna(df_ar.groupby(['Month','Time'])['PT08.S2(NMHC)'].transform('mean'))\n",
    "df_ar['C6H6(GT)']=df_ar['C6H6(GT)'].fillna(df_ar.groupby(['Month','Time'])['C6H6(GT)'].transform('mean'))\n",
    "\n",
    "df_ar['PT08.S4(NO2)']=df_ar['PT08.S4(NO2)'].fillna(df_ar.groupby(['Month','Time'])['PT08.S4(NO2)'].transform('mean'))\n",
    "df_ar['PT08.S5(O3)']=df_ar['PT08.S5(O3)'].fillna(df_ar.groupby(['Month','Time'])['PT08.S5(O3)'].transform('mean'))\n",
    "df_ar['T']=df_ar['T'].fillna(df_ar.groupby(['Month','Time'])['T'].transform('mean'))"
   ]
  },
  {
   "cell_type": "code",
   "execution_count": null,
   "metadata": {},
   "outputs": [],
   "source": []
  },
  {
   "cell_type": "code",
   "execution_count": null,
   "metadata": {},
   "outputs": [],
   "source": []
  },
  {
   "cell_type": "code",
   "execution_count": null,
   "metadata": {},
   "outputs": [],
   "source": []
  },
  {
   "cell_type": "code",
   "execution_count": null,
   "metadata": {},
   "outputs": [],
   "source": [
    "# Cria um dataset de valores N/A tratado.\n",
    "df_na_tratado =  pd.DataFrame(df_moda_valores_na, copy=True)\n"
   ]
  },
  {
   "cell_type": "markdown",
   "metadata": {},
   "source": [
    "## Verificando e Tratando Outliers"
   ]
  },
  {
   "cell_type": "code",
   "execution_count": null,
   "metadata": {},
   "outputs": [],
   "source": [
    "# Observando algumas medidas estatísticas das variáveis numéricas\n",
    "# Podemos observar que alguns atributos estão com o desvio padrão (std) bem alto o que pode indicar a presença de outliers.\n",
    "df_na_tratado.describe().transpose()"
   ]
  },
  {
   "cell_type": "code",
   "execution_count": null,
   "metadata": {},
   "outputs": [],
   "source": [
    "# Vamos plotar os dados dos atributos previsores para verificarmos os dados e indenticar outliers\n",
    "df_na_tratado.boxplot(figsize=(18,12),column=['C6H6(GT)', 'PT08.S2(NMHC)', 'NOx(GT)', 'PT08.S3(NOx)', 'NO2(GT)', 'PT08.S4(NO2)', 'PT08.S5(O3)', 'T', 'RH', 'AH']);"
   ]
  },
  {
   "cell_type": "code",
   "execution_count": null,
   "metadata": {},
   "outputs": [],
   "source": [
    "df_na_tratado.to_csv('df_na_tratado.csv', sep=';', decimal=',')"
   ]
  },
  {
   "cell_type": "code",
   "execution_count": null,
   "metadata": {},
   "outputs": [],
   "source": [
    "# Verificando outliers com a função Z-Score\n",
    "#\"O escore Z é o número sinalizado de desvios padrão pelo qual o valor de uma observação ou ponto de dados está acima do valor médio do que está sendo observado ou medido.\"\n",
    "from scipy import stats\n",
    "\n",
    "# Mínino de desvios padrão para ser não ser considerado outlier.\n",
    "threshold = 3\n",
    "  \n",
    "def fill_na_outliers(df, coluna, threshold):\n",
    "    df[coluna] = np.where(np.abs(stats.zscore(df[coluna].values)) > threshold, np.nan, df[coluna])    "
   ]
  },
  {
   "cell_type": "code",
   "execution_count": null,
   "metadata": {},
   "outputs": [],
   "source": []
  },
  {
   "cell_type": "code",
   "execution_count": null,
   "metadata": {},
   "outputs": [],
   "source": [
    "# Tratando os outliers de cada dos atibutos previsores.\n",
    "for col in df_na_tratado.columns[8:]: \n",
    "    fill_na_outliers(df_na_tratado, col, threshold)"
   ]
  },
  {
   "cell_type": "code",
   "execution_count": null,
   "metadata": {},
   "outputs": [],
   "source": []
  },
  {
   "cell_type": "code",
   "execution_count": null,
   "metadata": {},
   "outputs": [],
   "source": [
    "df_na_tratado.to_csv('df_tratado_outlier.csv', sep=';', decimal=',')"
   ]
  },
  {
   "cell_type": "code",
   "execution_count": null,
   "metadata": {},
   "outputs": [],
   "source": []
  },
  {
   "cell_type": "code",
   "execution_count": null,
   "metadata": {},
   "outputs": [],
   "source": [
    "# Verificando a quantidade de valores indetificados como outliers que foram substituídos por N/A\n",
    "df_na_tratado.isna().sum()"
   ]
  },
  {
   "cell_type": "code",
   "execution_count": null,
   "metadata": {},
   "outputs": [],
   "source": [
    "# Cria o dataframe com tratameno dos outliers.\n",
    "# Para esse caso onde os valores indetificados como outliers que foram substituídos por N/A, vamos emover do dataset as linhas com valores N/A.\n",
    "df_tratado = pd.DataFrame(df_na_tratado.dropna(), copy=True)\n",
    "df_tratado.shape"
   ]
  },
  {
   "cell_type": "code",
   "execution_count": null,
   "metadata": {},
   "outputs": [],
   "source": [
    "# Distribuição dos atributos dos após o tratamento dos dados\n",
    "df_tratado.hist(figsize=(10,8), column=['C6H6(GT)', 'PT08.S2(NMHC)', 'NOx(GT)', 'PT08.S3(NOx)', 'NO2(GT)', 'PT08.S4(NO2)', 'PT08.S5(O3)', 'T', 'RH', 'AH'])\n",
    "plt.tight_layout()\n",
    "plt.show()"
   ]
  },
  {
   "cell_type": "code",
   "execution_count": null,
   "metadata": {},
   "outputs": [],
   "source": []
  },
  {
   "cell_type": "code",
   "execution_count": null,
   "metadata": {},
   "outputs": [],
   "source": [
    "df_tratado.to_csv('df_tratado.csv', sep=';', decimal=',')"
   ]
  },
  {
   "cell_type": "code",
   "execution_count": null,
   "metadata": {},
   "outputs": [],
   "source": []
  },
  {
   "cell_type": "code",
   "execution_count": null,
   "metadata": {},
   "outputs": [],
   "source": [
    "df_ar.describe().transpose()"
   ]
  },
  {
   "cell_type": "code",
   "execution_count": null,
   "metadata": {},
   "outputs": [],
   "source": [
    "df_tratado.describe().transpose()"
   ]
  },
  {
   "cell_type": "code",
   "execution_count": null,
   "metadata": {
    "scrolled": true
   },
   "outputs": [],
   "source": [
    "df_tratado.head()"
   ]
  },
  {
   "cell_type": "code",
   "execution_count": null,
   "metadata": {},
   "outputs": [],
   "source": [
    "df_tratado.boxplot(figsize=(18,12), column=['C6H6(GT)', 'PT08.S2(NMHC)', 'NOx(GT)', 'PT08.S3(NOx)', 'NO2(GT)', 'PT08.S4(NO2)', 'PT08.S5(O3)', 'T', 'RH', 'AH']);"
   ]
  },
  {
   "cell_type": "code",
   "execution_count": null,
   "metadata": {},
   "outputs": [],
   "source": [
    "df_tratado.to_csv('df_tratado_semana.csv', sep=';', decimal=',')"
   ]
  },
  {
   "cell_type": "code",
   "execution_count": null,
   "metadata": {},
   "outputs": [],
   "source": []
  },
  {
   "cell_type": "code",
   "execution_count": null,
   "metadata": {},
   "outputs": [],
   "source": []
  },
  {
   "cell_type": "markdown",
   "metadata": {},
   "source": [
    "## Realizando algumas análises\n",
    "- Nesta Etapa vamos fazer algumas análises por dia, hora e etc..."
   ]
  },
  {
   "cell_type": "markdown",
   "metadata": {},
   "source": [
    "#### Análise de ocorrência dos Anos, Meses e Dias"
   ]
  },
  {
   "cell_type": "code",
   "execution_count": null,
   "metadata": {},
   "outputs": [],
   "source": [
    "# Quantidade de Mês em cada Ano do dataset\n",
    "print('\\nQuantidade de Meses em cada ano\\n')\n",
    "df_tratado.groupby('Year').Month.nunique()"
   ]
  },
  {
   "cell_type": "code",
   "execution_count": null,
   "metadata": {},
   "outputs": [],
   "source": [
    "# Meses em cada ano\n",
    "print('\\nMês em cada ano\\n')\n",
    "df_tratado.groupby('Year', as_index = False).agg({'Month': 'unique'}).sort_values(by='Year', ascending=True)\n"
   ]
  },
  {
   "cell_type": "code",
   "execution_count": null,
   "metadata": {},
   "outputs": [],
   "source": [
    "# Exibe a lista de dias de cada Mês que possui dadaos.\n",
    "pd.set_option( 'display.max_colwidth', 1000)\n",
    "print('\\nDia em cada mês/ano\\n')\n",
    "df_tratado.groupby(['Year','Month']).agg({'Day': 'unique'}).sort_values(by='Year', ascending=True)"
   ]
  },
  {
   "cell_type": "code",
   "execution_count": null,
   "metadata": {},
   "outputs": [],
   "source": [
    "# Quantidade de registros para cada mês\n",
    "print('\\nQuantidade de registros por mês/ano\\n')\n",
    "df_tratado.groupby(['Year','Month']).Month.count()"
   ]
  },
  {
   "cell_type": "code",
   "execution_count": null,
   "metadata": {},
   "outputs": [],
   "source": []
  },
  {
   "cell_type": "markdown",
   "metadata": {},
   "source": [
    "### Análises por Estação do Ano"
   ]
  },
  {
   "cell_type": "code",
   "execution_count": null,
   "metadata": {},
   "outputs": [],
   "source": []
  },
  {
   "cell_type": "code",
   "execution_count": null,
   "metadata": {},
   "outputs": [],
   "source": [
    "# Visualiza a concentração total de CO por estação do ano, em ordem descrescente.\n",
    "df_estacao = df_tratado.groupby('Season', as_index = False).agg({'PT08.S1(CO)': 'sum'}).sort_values(by='PT08.S1(CO)', ascending=False)\n",
    "print('\\nConcentração total de CO por Estação do ano\\n')\n",
    "df_estacao"
   ]
  },
  {
   "cell_type": "code",
   "execution_count": null,
   "metadata": {},
   "outputs": [],
   "source": [
    "#Plota um gráfico com a Distribuição de CO por Estação do ano\n",
    "fig, ax = plt.subplots(figsize=(16,6))\n",
    "bar = ax.bar(df_estacao.Season, df_estacao['PT08.S1(CO)'].sort_values(ascending=False))\n",
    "plt.title('Distribuição de CO por Estação do ano')\n",
    "plt.xlabel('Estação')\n",
    "plt.ylabel('Total')\n",
    "plt.grid(True)\n",
    "plt.show()"
   ]
  },
  {
   "cell_type": "code",
   "execution_count": null,
   "metadata": {},
   "outputs": [],
   "source": []
  },
  {
   "cell_type": "markdown",
   "metadata": {},
   "source": [
    "### Análises por Mês"
   ]
  },
  {
   "cell_type": "code",
   "execution_count": null,
   "metadata": {},
   "outputs": [],
   "source": [
    "# Visualiza a concentração total de CO por estação do ano, em ordem descrescente.\n",
    "df_mes = df_tratado.groupby('Month', as_index = False).agg({'PT08.S1(CO)': 'sum'}).sort_values(by='PT08.S1(CO)', ascending=False)\n",
    "print('\\nConcentração total de CO por Mês\\n')\n",
    "df_mes"
   ]
  },
  {
   "cell_type": "code",
   "execution_count": null,
   "metadata": {},
   "outputs": [],
   "source": [
    "#Plota um gráfico com a Distribuição de CO por Mês\n",
    "fig, ax = plt.subplots(figsize=(16,6))\n",
    "bar = ax.bar(df_mes.Month, df_mes['PT08.S1(CO)'].sort_values(ascending=False))\n",
    "plt.title('Distribuição de CO por Mês')\n",
    "plt.xlabel('Mês')\n",
    "plt.ylabel('Total')\n",
    "plt.grid(True)\n",
    "plt.show()"
   ]
  },
  {
   "cell_type": "markdown",
   "metadata": {},
   "source": [
    "### Análises por hora"
   ]
  },
  {
   "cell_type": "code",
   "execution_count": null,
   "metadata": {},
   "outputs": [],
   "source": [
    "# Visualiza a concentração de CO total por hora, em ordem descrescente.\n",
    "# TOP 5.\n",
    "df_co_hora = df_tratado.groupby('Time', as_index = False).agg({'PT08.S1(CO)': 'sum'}).sort_values(by='PT08.S1(CO)', ascending=False)\n",
    "print('\\nConcentração total de CO por hora - TOP 5\\n')\n",
    "df_co_hora.head(5)"
   ]
  },
  {
   "cell_type": "code",
   "execution_count": null,
   "metadata": {},
   "outputs": [],
   "source": []
  },
  {
   "cell_type": "code",
   "execution_count": null,
   "metadata": {},
   "outputs": [],
   "source": [
    "#Plota um gráfico com a Distribuição de CO por Horário\n",
    "fig, ax = plt.subplots(figsize=(16,6))\n",
    "bar = ax.bar(df_co_hora.Time, df_co_hora['PT08.S1(CO)'].sort_values(ascending=False))\n",
    "plt.title('Distribuição de CO por Horário')\n",
    "plt.xlabel('Horário')\n",
    "plt.ylabel('Total')\n",
    "plt.grid(True)\n",
    "plt.show()"
   ]
  },
  {
   "cell_type": "code",
   "execution_count": null,
   "metadata": {},
   "outputs": [],
   "source": []
  },
  {
   "cell_type": "markdown",
   "metadata": {},
   "source": [
    "### Análises por Semana"
   ]
  },
  {
   "cell_type": "code",
   "execution_count": null,
   "metadata": {},
   "outputs": [],
   "source": [
    "# Visualiza a concentração total de CO por dia da semana, em ordem descrescente.\n",
    "df_co_dia_semana = df_tratado.groupby('WeekDayName', as_index = False).agg({'PT08.S1(CO)': 'sum'}).sort_values(by='PT08.S1(CO)', ascending=False)\n",
    "print('\\nConcentração total de CO por dia da semana - TOP 5\\n')\n",
    "df_co_dia_semana"
   ]
  },
  {
   "cell_type": "code",
   "execution_count": null,
   "metadata": {},
   "outputs": [],
   "source": [
    "#Plota um gráfico com a Distribuição de CO por Dia da Semana\n",
    "fig, ax = plt.subplots(figsize=(16,6))\n",
    "bar = ax.bar(df_co_dia_semana.WeekDayName, df_co_dia_semana['PT08.S1(CO)'].sort_values(ascending=False))\n",
    "plt.title('Distribuição de CO por Horário')\n",
    "plt.xlabel('Dia da Semana')\n",
    "plt.ylabel('Total')\n",
    "plt.grid(True)\n",
    "plt.show()"
   ]
  },
  {
   "cell_type": "code",
   "execution_count": null,
   "metadata": {},
   "outputs": [],
   "source": [
    "# Visualiza a concentração total de CO por dia da semana e hora, em ordem descrescente.\n",
    "# TOP 5.\n",
    "df_dia_semana_hora = df_tratado.groupby(['WeekDayName', 'Time'], as_index = False).agg({'PT08.S1(CO)': 'sum'}).sort_values(by='PT08.S1(CO)', ascending=False)\n",
    "print('\\nConcentração total de CO por dia da semana e hora - TOP 5\\n')\n",
    "df_dia_semana_hora.head(5)"
   ]
  },
  {
   "cell_type": "code",
   "execution_count": null,
   "metadata": {},
   "outputs": [],
   "source": []
  },
  {
   "cell_type": "code",
   "execution_count": null,
   "metadata": {},
   "outputs": [],
   "source": []
  },
  {
   "cell_type": "code",
   "execution_count": null,
   "metadata": {},
   "outputs": [],
   "source": [
    "# Visualiza a concentração total de CO por por hora nas Quartas-feiras, em ordem descrescente.\n",
    "# TOP 5.\n",
    "df_dia_semana_hora = df_tratado[df_tratado.WeekDayName == '4-Quarta-feira'].groupby(['WeekDayName', 'Time'], as_index = False).agg({'PT08.S1(CO)': 'sum'}).sort_values(by='PT08.S1(CO)', ascending=False)\n",
    "print('\\nConcentração total de CO por hora nas Quartas-feiras - TOP 5\\n')\n",
    "df_dia_semana_hora.head(5)"
   ]
  },
  {
   "cell_type": "code",
   "execution_count": null,
   "metadata": {},
   "outputs": [],
   "source": []
  },
  {
   "cell_type": "code",
   "execution_count": null,
   "metadata": {},
   "outputs": [],
   "source": [
    "#Plota um gráfico com a Distribuição de CO por horário as Quartas-feira\n",
    "fig, ax = plt.subplots(figsize=(16,6))\n",
    "bar = ax.bar(df_dia_semana_hora.Time, df_dia_semana_hora['PT08.S1(CO)'].sort_values(ascending=False))\n",
    "plt.title('Distribuição de CO por horário as Quartas-feira')\n",
    "plt.xlabel('Horário')\n",
    "plt.ylabel('Total')\n",
    "plt.grid(True)\n",
    "plt.show()"
   ]
  },
  {
   "cell_type": "code",
   "execution_count": null,
   "metadata": {},
   "outputs": [],
   "source": []
  },
  {
   "cell_type": "code",
   "execution_count": null,
   "metadata": {},
   "outputs": [],
   "source": []
  },
  {
   "cell_type": "markdown",
   "metadata": {},
   "source": [
    "# Verificando a correlação dos Dados\n",
    "- Nessa etapa vamos verificar quais atributos estão mais relacionados com o atributo target.\n",
    "- A correlação indica a interdependência entre duas ou mais variáveis. Essa uma informação importante que pode ser aplicada em diversas situações."
   ]
  },
  {
   "cell_type": "code",
   "execution_count": null,
   "metadata": {},
   "outputs": [],
   "source": [
    "# Verificando a correlação dos atributos pelo método de pearson.\n",
    "df_tratado.corr(method='pearson')"
   ]
  },
  {
   "cell_type": "code",
   "execution_count": null,
   "metadata": {},
   "outputs": [],
   "source": [
    "# Verificando a correlação dos atributos pelo método de spearman.\n",
    "df_tratado.corr(method='spearman')"
   ]
  },
  {
   "cell_type": "code",
   "execution_count": null,
   "metadata": {},
   "outputs": [],
   "source": [
    "# Plota o gráfico de correlação dos dados pelo método de pearson.\n",
    "# Qual mais próximo de 1 ou -1 mais correlacionado o atributo está com atributo target.\n",
    "# OBS: É importante destacar que a Correlação não implica causa.\n",
    "plt.figure(figsize=(12,10))\n",
    "ax1 = sns.heatmap(df_tratado.corr(method='pearson'),linewidths=0.1,vmax=1.0, square=True, annot=True, fmt='.2f', annot_kws={\"size\": 9})\n",
    "plt.title('Correlação dos dados - PEARSON\\n')\n",
    "plt.show()"
   ]
  },
  {
   "cell_type": "code",
   "execution_count": null,
   "metadata": {},
   "outputs": [],
   "source": [
    "# Plota o gráfico de correlação dos dados pelo método de spearman.\n",
    "# Qual mais próximo de 1 ou -1 mais correlacionado o atributo está com atributo target.\n",
    "# OBS: É importante destacar que a Correlação não implica causa.\n",
    "plt.figure(figsize=(12,10))\n",
    "ax1 = sns.heatmap(df_tratado.corr(method='spearman'),linewidths=0.1,vmax=1.0, square=True, annot=True, fmt='.2f', annot_kws={\"size\": 9})\n",
    "plt.title('Correlação dos dados - SPEARMAN\\n')\n",
    "plt.show()"
   ]
  },
  {
   "cell_type": "markdown",
   "metadata": {},
   "source": [
    "### Interpretando a análise de Correlação\n",
    "\n",
    "##### Legenda dos coeficientes: \n",
    "- 0.9 para mais ou para menos indica uma correlação muito forte.\n",
    "- 0.7 a 0.9 positivo ou negativo indica uma correlação forte.\n",
    "- 0.5 a 0.7 positivo ou negativo indica uma correlação moderada.\n",
    "- 0.3 a 0.5 positivo ou negativo indica uma correlação fraca.\n",
    "- 0 a 0.3 positivo ou negativo indica uma correlação desprezível.\n",
    "\n",
    "\n",
    "##### Observando os resultados da análise da correlação realizada anteriomente (pearson) e com base na legenda acima, podemos destacar o seguinte: \n",
    "\n",
    "##### Temos 04 atributos com correlação FORTE ao atributo target (PT08.S1(CO) ). São eles: \n",
    "    - C6H6(GT)      - 0.86 \n",
    "    - PT08.S2(NMHC) - 0.87 \n",
    "    - PT08.S3(NOx)  - (-0.80) \n",
    "    - PT08.S5(O3)   - 0.88 \n",
    "    \n",
    "##### Temos 03 atributos correlação MODERADA ao atributo target (PT08.S1(CO) ). São eles: \n",
    "    - NOx(GT)      - 0.63 \n",
    "    - NO2(GT)      - 0.56 \n",
    "    - PT08.S4(NO2) - 0.63 \n",
    "\n",
    "\n",
    "\n",
    "\n"
   ]
  },
  {
   "cell_type": "code",
   "execution_count": null,
   "metadata": {},
   "outputs": [],
   "source": []
  },
  {
   "cell_type": "code",
   "execution_count": null,
   "metadata": {},
   "outputs": [],
   "source": [
    "df_tratado.columns.tolist()[7:]"
   ]
  },
  {
   "cell_type": "code",
   "execution_count": null,
   "metadata": {},
   "outputs": [],
   "source": [
    "# Comparação Linear do atributo target com os demais atributos do data frame\n",
    "for i in df_tratado.columns.tolist()[7:]:\n",
    "    sns.lmplot(x=i,y='PT08.S1(CO)',data=df_tratado,markers='.', )\n",
    "    "
   ]
  },
  {
   "cell_type": "code",
   "execution_count": null,
   "metadata": {},
   "outputs": [],
   "source": []
  },
  {
   "cell_type": "markdown",
   "metadata": {},
   "source": [
    "# Preparando os dados para criação do Modelo de Previsão"
   ]
  },
  {
   "cell_type": "code",
   "execution_count": null,
   "metadata": {},
   "outputs": [],
   "source": []
  },
  {
   "cell_type": "code",
   "execution_count": null,
   "metadata": {},
   "outputs": [],
   "source": []
  },
  {
   "cell_type": "code",
   "execution_count": null,
   "metadata": {},
   "outputs": [],
   "source": [
    "# Dividindo os atributos do dataframe \n",
    "\n",
    "# Previsores\n",
    "x = df_tratado.iloc[:, 8:].values\n",
    "\n",
    "# Target\n",
    "y = df_tratado.iloc[:, 7:8].values"
   ]
  },
  {
   "cell_type": "code",
   "execution_count": null,
   "metadata": {},
   "outputs": [],
   "source": [
    "print('Shape dos dados de X e y')\n",
    "print(x.shape)\n",
    "print(y.shape)"
   ]
  },
  {
   "cell_type": "code",
   "execution_count": null,
   "metadata": {},
   "outputs": [],
   "source": [
    "# Realiza a Padronização dos previsores\n",
    "from sklearn.preprocessing import StandardScaler\n",
    "\n",
    "# Padroniza os dados de x\n",
    "scale_x = StandardScaler()\n",
    "x_p= scale_x.fit_transform(x)"
   ]
  },
  {
   "cell_type": "code",
   "execution_count": null,
   "metadata": {},
   "outputs": [],
   "source": [
    "# Realiza a Padronização do target\n",
    "from sklearn.preprocessing import StandardScaler\n",
    "\n",
    "#Padroniza os dados de y\n",
    "scale_y = StandardScaler()\n",
    "y_p= scale_y.fit_transform(y)"
   ]
  },
  {
   "cell_type": "markdown",
   "metadata": {},
   "source": [
    "# Testando Alguns Modelos de Machine Learning"
   ]
  },
  {
   "cell_type": "code",
   "execution_count": null,
   "metadata": {},
   "outputs": [],
   "source": [
    "# Importando as bibliotecas dos modelos\n",
    "\n",
    "from sklearn import model_selection\n",
    "from sklearn.linear_model import LinearRegression\n",
    "from sklearn.linear_model import Ridge\n",
    "from sklearn.linear_model import Lasso\n",
    "from sklearn.tree import DecisionTreeRegressor\n",
    "from sklearn.ensemble import AdaBoostRegressor\n",
    "from sklearn.ensemble import GradientBoostingRegressor\n",
    "from sklearn.ensemble import RandomForestRegressor\n",
    "from sklearn.ensemble import ExtraTreesRegressor\n",
    "from sklearn.ensemble import BaggingRegressor\n",
    "from sklearn.svm import SVR\n",
    "from sklearn.preprocessing import PolynomialFeatures\n"
   ]
  },
  {
   "cell_type": "code",
   "execution_count": null,
   "metadata": {},
   "outputs": [],
   "source": [
    "# Cria a lista de modelos para avaliação.\n",
    "\n",
    "modelos = []\n",
    "\n",
    "modelos.append(('LinearRegression', LinearRegression()))\n",
    "modelos.append(('Ridge', Ridge(alpha=0.5)))\n",
    "modelos.append(('Lasso', Lasso(alpha=0.5)))\n",
    "modelos.append(('DecisionTreeRegressor', DecisionTreeRegressor()))\n",
    "modelos.append(('AdaBoostRegressor', AdaBoostRegressor()))\n",
    "modelos.append(('GradientBoostingRegressor', GradientBoostingRegressor()))\n",
    "modelos.append(('RandomForestRegressor', RandomForestRegressor(n_estimators=10)))\n",
    "modelos.append(('ExtraTreesRegressor', ExtraTreesRegressor(n_estimators=10)))\n",
    "modelos.append(('BaggingRegressor', BaggingRegressor()))\n",
    "modelos.append(('SVR', SVR(gamma='auto' )))\n"
   ]
  },
  {
   "cell_type": "code",
   "execution_count": null,
   "metadata": {},
   "outputs": [],
   "source": [
    "from datetime import datetime\n",
    "\n",
    "# Defindo os parâmetos do FOLD\n",
    "qtd_instancias = len(x)\n",
    "qtd_folds = 10\n",
    "seed = 1\n",
    "\n",
    "# Definindo as listas para análise dos resultados.\n",
    "resultados = []\n",
    "nomes_modelos = []\n",
    "tempo_treinamento_modelos = []\n",
    "\n",
    "\n",
    "# Treina os Modelos\n",
    "for nome_modelo, modelo in modelos:\n",
    "    \n",
    "    kfold = model_selection.KFold(n_splits=qtd_folds, random_state=seed)\n",
    "        \n",
    "    #Define o tempo de inicio do Treinamento\n",
    "    inicio = datetime.now()\n",
    "\n",
    "    resultados_cros_val = model_selection.cross_val_score(modelo, x_p, y_p.ravel(), cv=kfold, scoring='neg_mean_absolute_error'  ) \n",
    "    \n",
    "    #Define o tempo final do Treinamento\n",
    "    fim = datetime.now()   \n",
    "    tempo_modelo = (fim - inicio).total_seconds()\n",
    "    tempo_treinamento_modelos.append(tempo_modelo)\n",
    "    \n",
    "    resultados.append(resultados_cros_val)   \n",
    "    nomes_modelos.append(nome_modelo)    \n",
    "    \n",
    "\n",
    "    # Exibindo a performance dos modelos\n",
    "    print('\\nModelo: %s ' %  nome_modelo)\n",
    "    print(\"MAE: %.6f (Std: %.6f)\"  % (resultados_cros_val.mean(), resultados_cros_val.std()))\n",
    "    print('Tempo de Treinamento: %s segundos' % tempo_modelo )  \n",
    "    \n",
    "    #print(resultados_cros_val)\n",
    "    \n",
    "    # MAE = MEAN ABSOLUTE ERROR\n",
    "    # OBS: No cross_val_score o resultado do MAE é invertido."
   ]
  },
  {
   "cell_type": "markdown",
   "metadata": {},
   "source": [
    "### Comparando os resultados.\n",
    "- Nesta etapa vamos comparar os resultados dos algoritmos e escolher o que melhor se adaptou aos dados."
   ]
  },
  {
   "cell_type": "code",
   "execution_count": null,
   "metadata": {},
   "outputs": [],
   "source": [
    "#Plota um gráfico de Comparação dos Tempo de treinamentodos Algoritmos de Regressão\n",
    "colors = ['blue', 'deepskyblue', 'purple', 'tan', 'pink', 'indigo', 'tab:blue', 'tab:green', 'brown', 'violet', 'grey']\n",
    "\n",
    "fig, ax = plt.subplots(figsize=(26,8))\n",
    "box = ax.boxplot(resultados, vert=True, patch_artist=True,labels=nomes_modelos)\n",
    "\n",
    "for patch, color in zip(box['boxes'], colors):\n",
    "    patch.set_facecolor(color)\n",
    "\n",
    "plt.title('Comparação dos Algoritmos de Regressão')\n",
    "plt.xlabel('Algoritmo')\n",
    "plt.ylabel('MAE')\n",
    "\n",
    "plt.grid(True)\n",
    "plt.show()"
   ]
  },
  {
   "cell_type": "code",
   "execution_count": null,
   "metadata": {},
   "outputs": [],
   "source": [
    "#Plota um gráfico de Comparação do tempo de treinamento dos Algoritmos de Regressão\n",
    "fig, ax = plt.subplots(figsize=(26,8))\n",
    "bar = ax.bar(nomes_modelos, tempo_treinamento_modelos, color=colors)\n",
    "ax.set_xticklabels(nomes_modelos)\n",
    "plt.title('Tempo para Treinamento dos Algoritmos de Regressão')\n",
    "plt.xlabel('Algoritmo')\n",
    "plt.ylabel('Tempo (segundos)')\n",
    "\n",
    "plt.grid(True)\n",
    "plt.show()"
   ]
  },
  {
   "cell_type": "code",
   "execution_count": null,
   "metadata": {},
   "outputs": [],
   "source": []
  },
  {
   "cell_type": "markdown",
   "metadata": {},
   "source": [
    "# Escolhendo um Modelo de Previsão\n",
    "- Nos resultados apresentados pela validação cruzadas dos algoritmos o algoritmo que apresentou o menor erro (considerando MAE - Mean Absolut Error) foi o SVR. Por isso, escolhemos ele.\n",
    "- Porém é importante fazer uma ressalva: Nestes testes utilizamos as configurações padrões dos algoritmos, o que algumas vezes pode interferir no desempenho. Para realmente determinar o melhor, seria necessário alterar os hype-parâmetros de cada um deles executar várias combinações diferentes.\n"
   ]
  },
  {
   "cell_type": "code",
   "execution_count": null,
   "metadata": {},
   "outputs": [],
   "source": [
    "# O algoritmo de regressão que obteve o melhor resultado para este conjunto de dados, apesar do maior tempo para treinamento, foi o SVR. Vamos escolher ele para criar o nosso modelo final.\n",
    "# Criando o Modelo\n",
    "modelo = SVR(gamma='auto')"
   ]
  },
  {
   "cell_type": "code",
   "execution_count": null,
   "metadata": {},
   "outputs": [],
   "source": [
    "# Separando os dados de Treinamento e Teste\n",
    "from sklearn.model_selection import train_test_split\n",
    "\n",
    "x_treinamento, x_teste, y_treinamento, y_teste = train_test_split(x_p, y_p, test_size = 0.3)"
   ]
  },
  {
   "cell_type": "code",
   "execution_count": null,
   "metadata": {},
   "outputs": [],
   "source": [
    "print('Shape dos dados de Treinamento')\n",
    "print(x_treinamento.shape)\n",
    "print(y_treinamento.shape)"
   ]
  },
  {
   "cell_type": "code",
   "execution_count": null,
   "metadata": {},
   "outputs": [],
   "source": [
    "print('Shape dos dados de Teste')\n",
    "print(x_teste.shape)\n",
    "print(y_teste.shape)\n"
   ]
  },
  {
   "cell_type": "code",
   "execution_count": null,
   "metadata": {},
   "outputs": [],
   "source": [
    "# Treinando o modelo selecionado\n",
    "modelo.fit(x_treinamento, y_treinamento.ravel());"
   ]
  },
  {
   "cell_type": "code",
   "execution_count": null,
   "metadata": {},
   "outputs": [],
   "source": [
    "# Realiza a previsão com os dados de Teste\n",
    "y_previsto = modelo.predict(x_teste)"
   ]
  },
  {
   "cell_type": "code",
   "execution_count": null,
   "metadata": {},
   "outputs": [],
   "source": [
    "# Analisando a performance do modelo final\n",
    "\n",
    "from sklearn.metrics import mean_absolute_error\n",
    "\n",
    "mae = mean_absolute_error(y_teste, y_previsto)\n",
    "\n",
    "print('\\nMean Absolute Error do modelo final: %.3f \\n ' % mae)"
   ]
  },
  {
   "cell_type": "code",
   "execution_count": null,
   "metadata": {},
   "outputs": [],
   "source": []
  },
  {
   "cell_type": "markdown",
   "metadata": {},
   "source": [
    "# Exibindo os dados de Teste após a Previsão"
   ]
  },
  {
   "cell_type": "code",
   "execution_count": null,
   "metadata": {},
   "outputs": [],
   "source": [
    "print(\"\\nEstatísticas do atributo target:\\n\")\n",
    "df_tratado['PT08.S1(CO)'].describe()"
   ]
  },
  {
   "cell_type": "code",
   "execution_count": null,
   "metadata": {},
   "outputs": [],
   "source": [
    "# Plota o histograma do atributo target\n",
    "fig, ax = plt.subplots(figsize=(16,8))\n",
    "ax.hist(y_teste, color='green', bins=15)\n",
    "plt.title('Histograma da atributo target')\n",
    "plt.grid(True)\n",
    "plt.show()"
   ]
  },
  {
   "cell_type": "code",
   "execution_count": null,
   "metadata": {},
   "outputs": [],
   "source": [
    "# Reverte a alteração da escala feita anteriormente\n",
    "x_teste_scale = scale_x.inverse_transform(x_teste)\n",
    "x_teste_scale.shape"
   ]
  },
  {
   "cell_type": "code",
   "execution_count": null,
   "metadata": {},
   "outputs": [],
   "source": [
    "# Reverte a alteração da escala feita anteriormente\n",
    "y_teste_scale = scale_y.inverse_transform(y_teste.ravel())\n",
    "y_teste_scale.shape"
   ]
  },
  {
   "cell_type": "code",
   "execution_count": null,
   "metadata": {},
   "outputs": [],
   "source": [
    "# Reverte a alteração da escala feita anteriormente\n",
    "y_previsto_scale = scale_y.inverse_transform(y_previsto.ravel())\n",
    "y_previsto_scale.shape"
   ]
  },
  {
   "cell_type": "code",
   "execution_count": null,
   "metadata": {},
   "outputs": [],
   "source": [
    "# Calcula os residuos do modelo\n",
    "residuos = y_teste_scale.ravel() - y_previsto_scale.ravel()\n",
    "residuos.shape"
   ]
  },
  {
   "cell_type": "code",
   "execution_count": null,
   "metadata": {},
   "outputs": [],
   "source": []
  },
  {
   "cell_type": "code",
   "execution_count": null,
   "metadata": {},
   "outputs": [],
   "source": [
    "# Plota os residuos do modelo\n",
    "# O ideal é que tenhamos uma distribuição normal nos resíduos.\n",
    "fig, ax = plt.subplots(figsize=(16,8))\n",
    "ax.hist(residuos,color='orange', bins=20)\n",
    "plt.title('Histograma dos resíduos da regressão')\n",
    "plt.grid(True)\n",
    "plt.show()"
   ]
  },
  {
   "cell_type": "code",
   "execution_count": null,
   "metadata": {},
   "outputs": [],
   "source": [
    "# Plota os Valores Previstos e os Resíduos\n",
    "# Para ser considerado um \"bom modelo\" os resíduos devem ser aleatórios.\n",
    "fig, ax = plt.subplots(figsize=(16,8))\n",
    "ax.scatter(y=residuos, x=y_previsto_scale, color='blue', s=30, alpha=.5)\n",
    "plt.hlines(y=0, xmin=min(y_previsto_scale), xmax=max(y_previsto_scale), color='orange')\n",
    "plt.ylabel('$\\epsilon = y - \\hat{y}$ - Resíduos')\n",
    "plt.xlabel('$\\hat{y}$ ou $E(y)$ - Predito')\n",
    "plt.title('Valores Previstos x Resíduos')\n",
    "plt.show()"
   ]
  },
  {
   "cell_type": "code",
   "execution_count": null,
   "metadata": {},
   "outputs": [],
   "source": [
    "#Plota um gráfico de Comparação entre o Valor Real e o valor Previsto\n",
    "\n",
    "fig, axs = plt.subplots(2, 1, figsize=(26,8))\n",
    "\n",
    "# Valores\n",
    "axs[0].plot(y_previsto_scale, alpha=0.9, label ='Valor Previsto', color='red')\n",
    "axs[0].plot(y_teste_scale, alpha=0.8, label ='Valor Real', color='green')\n",
    "axs[0].set_title('Comparação entre o Valor Real e o Valor Previsto')\n",
    "axs[0].set_ylabel('Valor')\n",
    "axs[0].legend(loc='upper left')\n",
    "\n",
    "# Residuo\n",
    "axs[1].plot(residuos,  label='Resíduos', color='orange')\n",
    "axs[1].set_title('Resíduos')\n",
    "axs[1].set_ylabel('Valor')\n",
    "axs[1].legend(loc='upper left')\n",
    "\n",
    "#fig.tight_layout()\n",
    "plt.grid(True)\n",
    "plt.show()"
   ]
  },
  {
   "cell_type": "code",
   "execution_count": null,
   "metadata": {},
   "outputs": [],
   "source": []
  },
  {
   "cell_type": "code",
   "execution_count": null,
   "metadata": {},
   "outputs": [],
   "source": [
    "# Cria um dataframe com os atributos previsores o resultado da previsão\n",
    "df_previsores = pd.DataFrame(x_teste_scale,  columns=['NMHC(GT)', 'C6H6(GT)', 'PT08.S2(NMHC)', 'NOx(GT)', 'PT08.S3(NOx)', 'NO2(GT)', 'PT08.S4(NO2)', 'PT08.S5(O3)', 'T', 'RH', 'AH'])\n",
    "df_previsores.head()"
   ]
  },
  {
   "cell_type": "code",
   "execution_count": null,
   "metadata": {},
   "outputs": [],
   "source": [
    "# Reverte a alteração da escala feita anteriormente\n",
    "y_teste_scale = scale_y.inverse_transform(y_teste.ravel())\n",
    "y_teste_scale.shape"
   ]
  },
  {
   "cell_type": "code",
   "execution_count": null,
   "metadata": {},
   "outputs": [],
   "source": [
    "# Dataframe com o valor Previsto\n",
    "df_prev = pd.DataFrame(y_previsto_scale, columns=['VALOR_PREVISTO'])\n",
    "\n",
    "# Dataframe com o valor Real\n",
    "df_real = pd.DataFrame(y_teste_scale, columns=['VALOR_REAL'])\n",
    "\n",
    "# Juntando os dois dataframes\n",
    "df_target = pd.merge(df_real, df_prev, right_index=True, left_index=True)\n",
    "df_target['RESIDUO_MODELO'] = df_target.VALOR_REAL - df_target.VALOR_PREVISTO\n",
    "df_target['%'] = np.abs(df_target.RESIDUO_MODELO /  df_target.VALOR_REAL ) * 100\n"
   ]
  },
  {
   "cell_type": "code",
   "execution_count": null,
   "metadata": {},
   "outputs": [],
   "source": [
    "# Compara os resultadados da previsao com o valores reais.\n",
    "df_target.head()"
   ]
  },
  {
   "cell_type": "code",
   "execution_count": null,
   "metadata": {},
   "outputs": [],
   "source": [
    "# Agora juntando os dataframes de previsores e target\n",
    "df_merge = pd.merge(df_previsores, df_target, right_index=True, left_index=True)"
   ]
  },
  {
   "cell_type": "code",
   "execution_count": null,
   "metadata": {},
   "outputs": [],
   "source": [
    "# Exibe a primeira linhas do dataframe com os previsores\n",
    "df_merge.head()"
   ]
  },
  {
   "cell_type": "code",
   "execution_count": null,
   "metadata": {},
   "outputs": [],
   "source": [
    "# Exibindo somente os registros onde houve um erro maior que 5% na previsão.\n",
    "df_merge[df_merge['%'] > 5]"
   ]
  },
  {
   "cell_type": "raw",
   "metadata": {},
   "source": [
    "https://www.kaggle.com/sayakchakraborty/air-quality-prediction-of-relative-humidity"
   ]
  },
  {
   "cell_type": "code",
   "execution_count": null,
   "metadata": {},
   "outputs": [],
   "source": []
  },
  {
   "cell_type": "code",
   "execution_count": null,
   "metadata": {},
   "outputs": [],
   "source": []
  },
  {
   "cell_type": "code",
   "execution_count": null,
   "metadata": {},
   "outputs": [],
   "source": []
  },
  {
   "cell_type": "code",
   "execution_count": null,
   "metadata": {},
   "outputs": [],
   "source": []
  }
 ],
 "metadata": {
  "kernelspec": {
   "display_name": "Python 3",
   "language": "python",
   "name": "python3"
  },
  "language_info": {
   "codemirror_mode": {
    "name": "ipython",
    "version": 3
   },
   "file_extension": ".py",
   "mimetype": "text/x-python",
   "name": "python",
   "nbconvert_exporter": "python",
   "pygments_lexer": "ipython3",
   "version": "3.7.3"
  }
 },
 "nbformat": 4,
 "nbformat_minor": 4
}
